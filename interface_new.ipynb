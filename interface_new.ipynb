{
 "cells": [
  {
   "cell_type": "code",
   "execution_count": 11,
   "metadata": {},
   "outputs": [
    {
     "name": "stdout",
     "output_type": "stream",
     "text": [
      "WARNING:tensorflow:11 out of the last 11 calls to <function Model.make_predict_function.<locals>.predict_function at 0x00000243B2ED1B80> triggered tf.function retracing. Tracing is expensive and the excessive number of tracings could be due to (1) creating @tf.function repeatedly in a loop, (2) passing tensors with different shapes, (3) passing Python objects instead of tensors. For (1), please define your @tf.function outside of the loop. For (2), @tf.function has experimental_relax_shapes=True option that relaxes argument shapes that can avoid unnecessary retracing. For (3), please refer to https://www.tensorflow.org/tutorials/customization/performance#python_or_tensor_args and https://www.tensorflow.org/api_docs/python/tf/function for  more details.\n",
      "[[0.]]\n",
      "WARNING:tensorflow:11 out of the last 11 calls to <function Model.make_predict_function.<locals>.predict_function at 0x00000243B92B2430> triggered tf.function retracing. Tracing is expensive and the excessive number of tracings could be due to (1) creating @tf.function repeatedly in a loop, (2) passing tensors with different shapes, (3) passing Python objects instead of tensors. For (1), please define your @tf.function outside of the loop. For (2), @tf.function has experimental_relax_shapes=True option that relaxes argument shapes that can avoid unnecessary retracing. For (3), please refer to https://www.tensorflow.org/tutorials/customization/performance#python_or_tensor_args and https://www.tensorflow.org/api_docs/python/tf/function for  more details.\n",
      "[[0.9999897]]\n",
      "WARNING:tensorflow:11 out of the last 11 calls to <function Model.make_predict_function.<locals>.predict_function at 0x00000243B3952940> triggered tf.function retracing. Tracing is expensive and the excessive number of tracings could be due to (1) creating @tf.function repeatedly in a loop, (2) passing tensors with different shapes, (3) passing Python objects instead of tensors. For (1), please define your @tf.function outside of the loop. For (2), @tf.function has experimental_relax_shapes=True option that relaxes argument shapes that can avoid unnecessary retracing. For (3), please refer to https://www.tensorflow.org/tutorials/customization/performance#python_or_tensor_args and https://www.tensorflow.org/api_docs/python/tf/function for  more details.\n",
      "[[0.9999777]]\n",
      "WARNING:tensorflow:11 out of the last 11 calls to <function Model.make_predict_function.<locals>.predict_function at 0x00000243BEBDFDC0> triggered tf.function retracing. Tracing is expensive and the excessive number of tracings could be due to (1) creating @tf.function repeatedly in a loop, (2) passing tensors with different shapes, (3) passing Python objects instead of tensors. For (1), please define your @tf.function outside of the loop. For (2), @tf.function has experimental_relax_shapes=True option that relaxes argument shapes that can avoid unnecessary retracing. For (3), please refer to https://www.tensorflow.org/tutorials/customization/performance#python_or_tensor_args and https://www.tensorflow.org/api_docs/python/tf/function for  more details.\n",
      "[[1.10250325e-16]]\n"
     ]
    },
    {
     "name": "stderr",
     "output_type": "stream",
     "text": [
      "Exception in Tkinter callback\n",
      "Traceback (most recent call last):\n",
      "  File \"C:\\Users\\Anju Satheesh\\anaconda3\\envs\\breastcancer\\lib\\site-packages\\PIL\\Image.py\", line 2979, in open\n",
      "    fp.seek(0)\n",
      "AttributeError: 'str' object has no attribute 'seek'\n",
      "\n",
      "During handling of the above exception, another exception occurred:\n",
      "\n",
      "Traceback (most recent call last):\n",
      "  File \"C:\\Users\\Anju Satheesh\\anaconda3\\envs\\breastcancer\\lib\\tkinter\\__init__.py\", line 1892, in __call__\n",
      "    return self.func(*args)\n",
      "  File \"C:\\Users\\Anju Satheesh\\AppData\\Local\\Temp\\ipykernel_16804\\1336347411.py\", line 15, in load_img\n",
      "    img = Image.open(image_data)\n",
      "  File \"C:\\Users\\Anju Satheesh\\anaconda3\\envs\\breastcancer\\lib\\site-packages\\PIL\\Image.py\", line 2981, in open\n",
      "    fp = io.BytesIO(fp.read())\n",
      "AttributeError: 'str' object has no attribute 'read'\n"
     ]
    },
    {
     "name": "stdout",
     "output_type": "stream",
     "text": [
      "WARNING:tensorflow:11 out of the last 11 calls to <function Model.make_predict_function.<locals>.predict_function at 0x00000243BE222040> triggered tf.function retracing. Tracing is expensive and the excessive number of tracings could be due to (1) creating @tf.function repeatedly in a loop, (2) passing tensors with different shapes, (3) passing Python objects instead of tensors. For (1), please define your @tf.function outside of the loop. For (2), @tf.function has experimental_relax_shapes=True option that relaxes argument shapes that can avoid unnecessary retracing. For (3), please refer to https://www.tensorflow.org/tutorials/customization/performance#python_or_tensor_args and https://www.tensorflow.org/api_docs/python/tf/function for  more details.\n",
      "[[0.]]\n",
      "WARNING:tensorflow:11 out of the last 11 calls to <function Model.make_predict_function.<locals>.predict_function at 0x00000243C577C040> triggered tf.function retracing. Tracing is expensive and the excessive number of tracings could be due to (1) creating @tf.function repeatedly in a loop, (2) passing tensors with different shapes, (3) passing Python objects instead of tensors. For (1), please define your @tf.function outside of the loop. For (2), @tf.function has experimental_relax_shapes=True option that relaxes argument shapes that can avoid unnecessary retracing. For (3), please refer to https://www.tensorflow.org/tutorials/customization/performance#python_or_tensor_args and https://www.tensorflow.org/api_docs/python/tf/function for  more details.\n",
      "[[0.9999777]]\n"
     ]
    }
   ],
   "source": [
    "import tkinter as tk\n",
    "from PIL import ImageTk, Image\n",
    "from tkinter import filedialog\n",
    "import keras\n",
    "from keras.preprocessing import image\n",
    "import numpy as np\n",
    "\n",
    "def load_img():\n",
    "    global img, image_data\n",
    "    for img_display in frame.winfo_children():\n",
    "        img_display.destroy()\n",
    "\n",
    "    image_data = filedialog.askopenfilename(initialdir=\"\", title=\"Choose an image\",filetype =[(\"image\",\"*.png\")])\n",
    "    basewidth = 150 # Processing image for displaying\n",
    "    img = Image.open(image_data)\n",
    "    wpercent = (basewidth / float(img.size[0]))\n",
    "    hsize = int((float(img.size[1]) * float(wpercent)))\n",
    "    img = img.resize((basewidth, hsize), Image.ANTIALIAS)\n",
    "    img = ImageTk.PhotoImage(img)\n",
    "    file_name = image_data.split('/')\n",
    "    panel = tk.Label(frame, text= str(file_name[len(file_name)-1])).pack()\n",
    "    panel_image = tk.Label(frame, image=img).pack()\n",
    "    \n",
    "\n",
    "def classify():\n",
    "    original = Image.open(image_data)\n",
    "    original = original.resize((150, 150), Image.ANTIALIAS)\n",
    "    model = keras.models.load_model('C:/Users/Anju Satheesh/Dropbox/My PC (LAPTOP-N0RD666U)/Desktop/mini_project/cnn1.model')\n",
    "    image_test = image.img_to_array(original)\n",
    "    #image_test = image_test.reshape((1,) + image_test.shape)\n",
    "    #image_test =image_test.astype('float32') / 255\n",
    "    \n",
    "    image_test = image. img_to_array(image_test)\n",
    "    image_test = np.expand_dims( image_test, axis =0 )\n",
    "    \n",
    "    result = model.predict(image_test)\n",
    "    \n",
    "    print(result)\n",
    "\n",
    "    if (result == 0):\n",
    "        pred = \"benign\"\n",
    "    else:\n",
    "        pred = \"malign\"\n",
    "\n",
    "    label = pred\n",
    "    table = tk.Label(frame, text=\"Result:\").pack()\n",
    "    result = tk.Label(frame,text= str(label).upper()).pack()\n",
    "    \n",
    "root = tk.Tk()\n",
    "root.title('Cancer')\n",
    "#root.iconbitmap('class.ico')\n",
    "root.resizable(False, False)\n",
    "\n",
    "tit = tk.Label(root, text=\"BREAST CANCER DIAGNOSIS\", padx=25, pady=6, font=(\"\", 12)).pack()\n",
    "\n",
    "canvas = tk.Canvas(root, height=500, width=1000)\n",
    "canvas.pack()\n",
    "\n",
    "frame = tk.Frame(root, bg='white')\n",
    "frame.place(relwidth=0.6, relheight=0.5, relx=0.2, rely=0.25)\n",
    "\n",
    "chose_image = tk.Button(root, text='Choose Image',\n",
    "                        padx=35, pady=10,\n",
    "                        fg=\"white\", bg=\"grey\", command=load_img)\n",
    "chose_image.pack(side=tk.LEFT)\n",
    "\n",
    "class_image = tk.Button(root, text='Classify Image',\n",
    "                        padx=35, pady=10,\n",
    "                        fg=\"white\", bg=\"grey\", command=classify)\n",
    "class_image.pack(side=tk.RIGHT)\n",
    "\n",
    "\n",
    "root.mainloop()"
   ]
  },
  {
   "cell_type": "code",
   "execution_count": null,
   "metadata": {},
   "outputs": [],
   "source": []
  }
 ],
 "metadata": {
  "interpreter": {
   "hash": "69a878d54029d5b549364f969c6719a7b119c236b38e5a11ce811c8fd99e0eb5"
  },
  "kernelspec": {
   "display_name": "Python 3 (ipykernel)",
   "language": "python",
   "name": "python3"
  },
  "language_info": {
   "codemirror_mode": {
    "name": "ipython",
    "version": 3
   },
   "file_extension": ".py",
   "mimetype": "text/x-python",
   "name": "python",
   "nbconvert_exporter": "python",
   "pygments_lexer": "ipython3",
   "version": "3.8.12"
  }
 },
 "nbformat": 4,
 "nbformat_minor": 2
}
