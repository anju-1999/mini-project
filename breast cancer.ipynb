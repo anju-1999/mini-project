{
 "cells": [
  {
   "cell_type": "code",
   "execution_count": 1,
   "id": "fafc37de",
   "metadata": {},
   "outputs": [],
   "source": [
    "import keras"
   ]
  },
  {
   "cell_type": "code",
   "execution_count": 2,
   "id": "d11804cb",
   "metadata": {},
   "outputs": [],
   "source": [
    "from keras.preprocessing.image import ImageDataGenerator"
   ]
  },
  {
   "cell_type": "code",
   "execution_count": 3,
   "id": "83e804e7",
   "metadata": {},
   "outputs": [],
   "source": [
    "from keras.models import Sequential"
   ]
  },
  {
   "cell_type": "code",
   "execution_count": 4,
   "id": "554f15a0",
   "metadata": {},
   "outputs": [],
   "source": [
    "from keras.layers import Conv2D, MaxPooling2D"
   ]
  },
  {
   "cell_type": "code",
   "execution_count": 5,
   "id": "3405573e",
   "metadata": {},
   "outputs": [],
   "source": [
    "from keras.layers import Activation, Dropout, Flatten, Dense"
   ]
  },
  {
   "cell_type": "code",
   "execution_count": 6,
   "id": "bdee4661",
   "metadata": {},
   "outputs": [],
   "source": [
    "from keras import backend as K"
   ]
  },
  {
   "cell_type": "code",
   "execution_count": 7,
   "id": "52a37f21",
   "metadata": {},
   "outputs": [],
   "source": [
    "import numpy as np"
   ]
  },
  {
   "cell_type": "code",
   "execution_count": 8,
   "id": "cb2e8eb3",
   "metadata": {},
   "outputs": [],
   "source": [
    "from keras.preprocessing import image"
   ]
  },
  {
   "cell_type": "code",
   "execution_count": 9,
   "id": "3c7624a6",
   "metadata": {},
   "outputs": [],
   "source": [
    "img_width, img_height = 150, 150\n",
    "train_data_dir = 'C:/Users/Anju Satheesh/Dropbox/My PC (LAPTOP-N0RD666U)/Desktop/mini_project/masterwork/train'        \n",
    "validation_data_dir = 'C:/Users/Anju Satheesh/Dropbox/My PC (LAPTOP-N0RD666U)/Desktop/mini_project/masterwork/test'\n",
    "nb_train_samples = 8000        \n",
    "nb_validation_samples = 1600   \n",
    "epochs = 8                  \n",
    "batch_size = 60"
   ]
  },
  {
   "cell_type": "code",
   "execution_count": 10,
   "id": "db56a885",
   "metadata": {},
   "outputs": [],
   "source": [
    "if K.image_data_format() == 'channels_first':\n",
    "\n",
    "    input_shape = (3, img_width, img_height)\n",
    "else:\n",
    "    input_shape = (img_width, img_height, 3) \n",
    "\n",
    "\n",
    "train_datagen = ImageDataGenerator(\n",
    "rescale=1. / 255,   \n",
    "shear_range=0.2,\n",
    "zoom_range=0.2,\n",
    "horizontal_flip=True)"
   ]
  },
  {
   "cell_type": "code",
   "execution_count": 11,
   "id": "0652dd4e",
   "metadata": {},
   "outputs": [
    {
     "name": "stdout",
     "output_type": "stream",
     "text": [
      "Found 8000 images belonging to 2 classes.\n",
      "Found 0 images belonging to 0 classes.\n"
     ]
    }
   ],
   "source": [
    "test_datagen =ImageDataGenerator (rescale=1. / 255)\n",
    "train_generator = train_datagen.flow_from_directory(\n",
    "train_data_dir,\n",
    "target_size=(img_width, img_height),\n",
    "batch_size=batch_size,\n",
    "class_mode ='binary')\n",
    "validation_generator = test_datagen.flow_from_directory(\n",
    "    validation_data_dir,\n",
    "    target_size=(img_width, img_height),\n",
    "    batch_size=batch_size,\n",
    "    class_mode='binary'\n",
    ") "
   ]
  },
  {
   "cell_type": "code",
   "execution_count": 12,
   "id": "38ac27b9",
   "metadata": {},
   "outputs": [
    {
     "name": "stdout",
     "output_type": "stream",
     "text": [
      "Model: \"sequential\"\n",
      "_________________________________________________________________\n",
      "Layer (type)                 Output Shape              Param #   \n",
      "=================================================================\n",
      "conv2d (Conv2D)              (None, 148, 148, 32)      896       \n",
      "_________________________________________________________________\n",
      "activation (Activation)      (None, 148, 148, 32)      0         \n",
      "_________________________________________________________________\n",
      "max_pooling2d (MaxPooling2D) (None, 74, 74, 32)        0         \n",
      "=================================================================\n",
      "Total params: 896\n",
      "Trainable params: 896\n",
      "Non-trainable params: 0\n",
      "_________________________________________________________________\n",
      "Model: \"sequential\"\n",
      "_________________________________________________________________\n",
      "Layer (type)                 Output Shape              Param #   \n",
      "=================================================================\n",
      "conv2d (Conv2D)              (None, 148, 148, 32)      896       \n",
      "_________________________________________________________________\n",
      "activation (Activation)      (None, 148, 148, 32)      0         \n",
      "_________________________________________________________________\n",
      "max_pooling2d (MaxPooling2D) (None, 74, 74, 32)        0         \n",
      "_________________________________________________________________\n",
      "conv2d_1 (Conv2D)            (None, 72, 72, 32)        9248      \n",
      "_________________________________________________________________\n",
      "activation_1 (Activation)    (None, 72, 72, 32)        0         \n",
      "_________________________________________________________________\n",
      "max_pooling2d_1 (MaxPooling2 (None, 36, 36, 32)        0         \n",
      "_________________________________________________________________\n",
      "conv2d_2 (Conv2D)            (None, 34, 34, 64)        18496     \n",
      "_________________________________________________________________\n",
      "activation_2 (Activation)    (None, 34, 34, 64)        0         \n",
      "_________________________________________________________________\n",
      "max_pooling2d_2 (MaxPooling2 (None, 17, 17, 64)        0         \n",
      "=================================================================\n",
      "Total params: 28,640\n",
      "Trainable params: 28,640\n",
      "Non-trainable params: 0\n",
      "_________________________________________________________________\n"
     ]
    }
   ],
   "source": [
    "model = Sequential()\n",
    "model.add(Conv2D(32, (3, 3), input_shape=input_shape))\n",
    "model.add(Activation('relu'))\n",
    "model.add(MaxPooling2D(pool_size=(2, 2)))\n",
    "\n",
    "model.summary ()\n",
    "\n",
    "model.add(Conv2D(32, (3, 3)))\n",
    "model.add(Activation('relu'))\n",
    "model.add(MaxPooling2D(pool_size=(2, 2)))\n",
    "\n",
    "model.add(Conv2D(64, (3, 3)))\n",
    "model.add(Activation('relu'))\n",
    "model.add(MaxPooling2D(pool_size=(2, 2)))\n",
    "\n",
    "\n",
    "model. summary()"
   ]
  },
  {
   "cell_type": "code",
   "execution_count": 13,
   "id": "4e6c0a12",
   "metadata": {},
   "outputs": [
    {
     "name": "stdout",
     "output_type": "stream",
     "text": [
      "Model: \"sequential\"\n",
      "_________________________________________________________________\n",
      "Layer (type)                 Output Shape              Param #   \n",
      "=================================================================\n",
      "conv2d (Conv2D)              (None, 148, 148, 32)      896       \n",
      "_________________________________________________________________\n",
      "activation (Activation)      (None, 148, 148, 32)      0         \n",
      "_________________________________________________________________\n",
      "max_pooling2d (MaxPooling2D) (None, 74, 74, 32)        0         \n",
      "_________________________________________________________________\n",
      "conv2d_1 (Conv2D)            (None, 72, 72, 32)        9248      \n",
      "_________________________________________________________________\n",
      "activation_1 (Activation)    (None, 72, 72, 32)        0         \n",
      "_________________________________________________________________\n",
      "max_pooling2d_1 (MaxPooling2 (None, 36, 36, 32)        0         \n",
      "_________________________________________________________________\n",
      "conv2d_2 (Conv2D)            (None, 34, 34, 64)        18496     \n",
      "_________________________________________________________________\n",
      "activation_2 (Activation)    (None, 34, 34, 64)        0         \n",
      "_________________________________________________________________\n",
      "max_pooling2d_2 (MaxPooling2 (None, 17, 17, 64)        0         \n",
      "_________________________________________________________________\n",
      "flatten (Flatten)            (None, 18496)             0         \n",
      "_________________________________________________________________\n",
      "dense (Dense)                (None, 64)                1183808   \n",
      "_________________________________________________________________\n",
      "activation_3 (Activation)    (None, 64)                0         \n",
      "_________________________________________________________________\n",
      "dropout (Dropout)            (None, 64)                0         \n",
      "_________________________________________________________________\n",
      "dense_1 (Dense)              (None, 1)                 65        \n",
      "_________________________________________________________________\n",
      "activation_4 (Activation)    (None, 1)                 0         \n",
      "=================================================================\n",
      "Total params: 1,212,513\n",
      "Trainable params: 1,212,513\n",
      "Non-trainable params: 0\n",
      "_________________________________________________________________\n"
     ]
    }
   ],
   "source": [
    "model.add(Flatten())\n",
    "model.add(Dense(64))\n",
    "model.add(Activation('relu'))\n",
    "model.add(Dropout(0.5))\n",
    "model.add (Dense(1))\n",
    "model.add(Activation('sigmoid'))\n",
    "\n",
    "model. summary()"
   ]
  },
  {
   "cell_type": "code",
   "execution_count": 14,
   "id": "6ec3bd65",
   "metadata": {},
   "outputs": [],
   "source": [
    "model.compile(loss='binary_crossentropy',\n",
    "              optimizer ='rmsprop',\n",
    "              metrics=['accuracy'])"
   ]
  },
  {
   "cell_type": "code",
   "execution_count": 15,
   "id": "f9dc88be",
   "metadata": {},
   "outputs": [
    {
     "name": "stdout",
     "output_type": "stream",
     "text": [
      "WARNING:tensorflow:From C:\\Users\\ANJUSA~1\\AppData\\Local\\Temp/ipykernel_2764/3030396371.py:1: Model.fit_generator (from tensorflow.python.keras.engine.training) is deprecated and will be removed in a future version.\n",
      "Instructions for updating:\n",
      "Please use Model.fit, which supports generators.\n",
      "Epoch 1/8\n",
      "133/133 [==============================] - 122s 916ms/step - loss: 0.5776 - accuracy: 0.7189\n",
      "Epoch 2/8\n",
      "133/133 [==============================] - 123s 927ms/step - loss: 0.4944 - accuracy: 0.8065\n",
      "Epoch 3/8\n",
      "133/133 [==============================] - 120s 902ms/step - loss: 0.4275 - accuracy: 0.8220\n",
      "Epoch 4/8\n",
      "133/133 [==============================] - 119s 897ms/step - loss: 0.4063 - accuracy: 0.8351\n",
      "Epoch 5/8\n",
      "133/133 [==============================] - 120s 900ms/step - loss: 0.4102 - accuracy: 0.8469\n",
      "Epoch 6/8\n",
      "133/133 [==============================] - 123s 927ms/step - loss: 0.3758 - accuracy: 0.8453\n",
      "Epoch 7/8\n",
      "133/133 [==============================] - 125s 940ms/step - loss: 0.3650 - accuracy: 0.8508\n",
      "Epoch 8/8\n",
      "133/133 [==============================] - 121s 909ms/step - loss: 0.3527 - accuracy: 0.8587\n"
     ]
    },
    {
     "data": {
      "text/plain": [
       "<tensorflow.python.keras.callbacks.History at 0x27fb17517c0>"
      ]
     },
     "execution_count": 15,
     "metadata": {},
     "output_type": "execute_result"
    }
   ],
   "source": [
    "model.fit_generator(\n",
    "train_generator,\n",
    "steps_per_epoch=nb_train_samples // batch_size,\n",
    "epochs =epochs,\n",
    "validation_data= validation_generator,\n",
    "validation_steps =nb_validation_samples // batch_size)\n"
   ]
  },
  {
   "attachments": {
    "class0.png": {
     "image/png": "[encoded data removed]"
    }
   },
   "cell_type": "markdown",
   "id": "aa8e5861",
   "metadata": {},
   "source": [
    "# Prediction\n",
    "Input 1: ![class0.png](attachment:class0.png)\n"
   ]
  },
  {
   "cell_type": "code",
   "execution_count": 16,
   "id": "eb593c72",
   "metadata": {},
   "outputs": [
    {
     "name": "stdout",
     "output_type": "stream",
     "text": [
      "[[0.]]\n",
      "Benign\n"
     ]
    }
   ],
   "source": [
    "#prediction 1,Expecting class 0 benign result\n",
    "model.save_weights('first_try.h5'),\n",
    "\n",
    "img_pred = image.load_img('C:/Users/Anju Satheesh/Dropbox/My PC (LAPTOP-N0RD666U)/Desktop/mini_project/masterwork/validation/class0.png', target_size = (150, 150))  \n",
    "image_pred = image. img_to_array(img_pred)\n",
    "img_pred = np.expand_dims( img_pred, axis =0 )\n",
    "\n",
    "#Testing\n",
    "result=model.predict(img_pred)\n",
    "print (result)\n",
    "if result[0][0]==0:\n",
    "    prediction = \"Benign\"\n",
    "\n",
    "else:\n",
    "    prediction = \"Mallign\"\n",
    "\n",
    "print (prediction)"
   ]
  },
  {
   "attachments": {
    "class1.png": {
     "image/png": "[encoded data removed]"
    }
   },
   "cell_type": "markdown",
   "id": "dea24a78",
   "metadata": {},
   "source": [
    "Input 2:![class1.png](attachment:class1.png)"
   ]
  },
  {
   "cell_type": "code",
   "execution_count": 17,
   "id": "e64f82e3",
   "metadata": {},
   "outputs": [
    {
     "name": "stdout",
     "output_type": "stream",
     "text": [
      "[[1.]]\n",
      "Malign\n"
     ]
    }
   ],
   "source": [
    "#Prediction 2,Expecting class 1 malign result\n",
    "model.save_weights('first_try.h5'),\n",
    "\n",
    "img_pred = image.load_img('C:/Users/Anju Satheesh/Dropbox/My PC (LAPTOP-N0RD666U)/Desktop/mini_project/masterwork/validation/class1.png', target_size = (150, 150))  \n",
    "image_pred = image. img_to_array(img_pred)\n",
    "img_pred = np.expand_dims( img_pred, axis =0 )\n",
    "\n",
    "#Testing\n",
    "result=model.predict(img_pred)\n",
    "print (result)\n",
    "if result[0][0]==0:\n",
    "    prediction = \"Benign\"\n",
    "\n",
    "else:\n",
    "    prediction = \"Malign\"\n",
    "\n",
    "print (prediction)"
   ]
  },
  {
   "cell_type": "markdown",
   "id": "14102f0e",
   "metadata": {},
   "source": [
    "# "
   ]
  },
  {
   "cell_type": "markdown",
   "id": "ba73ef34",
   "metadata": {},
   "source": [
    "# Prediction for 100 images"
   ]
  },
  {
   "cell_type": "code",
   "execution_count": 18,
   "id": "91feaef3",
   "metadata": {},
   "outputs": [
    {
     "name": "stdout",
     "output_type": "stream",
     "text": [
      "[[1.]]\n",
      "Mallign\n"
     ]
    }
   ],
   "source": [
    "#Try 3,Expecting class 0 benign result\n",
    "model.save_weights('first_try.h5'),\n",
    "\n",
    "img_pred = image.load_img('C:/Users/Anju Satheesh/Dropbox/My PC (LAPTOP-N0RD666U)/Desktop/mini_project/masterwork/validation/try3_class0.png', target_size = (150, 150))  \n",
    "image_pred = image. img_to_array(img_pred)\n",
    "img_pred = np.expand_dims( img_pred, axis =0 )\n",
    "\n",
    "#Testing\n",
    "result=model.predict(img_pred)\n",
    "print (result)\n",
    "if result[0][0]==0:\n",
    "    prediction = \"Benign\"\n",
    "\n",
    "else:\n",
    "    prediction = \"Mallign\"\n",
    "\n",
    "print (prediction)"
   ]
  },
  {
   "cell_type": "code",
   "execution_count": 19,
   "id": "1d125b45",
   "metadata": {},
   "outputs": [
    {
     "name": "stdout",
     "output_type": "stream",
     "text": [
      "[[0.]]\n",
      "Benign\n"
     ]
    }
   ],
   "source": [
    "#Try 4,Expecting class 0 benign result\n",
    "model.save_weights('first_try.h5'),\n",
    "\n",
    "img_pred = image.load_img('C:/Users/Anju Satheesh/Dropbox/My PC (LAPTOP-N0RD666U)/Desktop/mini_project/masterwork/validation/try4_class0.png', target_size = (150, 150))  \n",
    "image_pred = image. img_to_array(img_pred)\n",
    "img_pred = np.expand_dims( img_pred, axis =0 )\n",
    "\n",
    "#Testing\n",
    "result=model.predict(img_pred)\n",
    "print (result)\n",
    "if result[0][0]==0:\n",
    "    prediction = \"Benign\"\n",
    "\n",
    "else:\n",
    "    prediction = \"Mallign\"\n",
    "\n",
    "print (prediction)"
   ]
  },
  {
   "cell_type": "code",
   "execution_count": 20,
   "id": "5e359c5d",
   "metadata": {},
   "outputs": [
    {
     "name": "stdout",
     "output_type": "stream",
     "text": [
      "[[0.]]\n",
      "Benign\n"
     ]
    }
   ],
   "source": [
    "#Try 5,Expecting class 0 benign result\n",
    "model.save_weights('first_try.h5'),\n",
    "\n",
    "img_pred = image.load_img('C:/Users/Anju Satheesh/Dropbox/My PC (LAPTOP-N0RD666U)/Desktop/mini_project/masterwork/validation/try5_class0.png', target_size = (150, 150))  \n",
    "image_pred = image. img_to_array(img_pred)\n",
    "img_pred = np.expand_dims( img_pred, axis =0 )\n",
    "\n",
    "#Testing\n",
    "result=model.predict(img_pred)\n",
    "print (result)\n",
    "if result[0][0]==0:\n",
    "    prediction = \"Benign\"\n",
    "\n",
    "else:\n",
    "    prediction = \"Mallign\"\n",
    "\n",
    "print (prediction)"
   ]
  },
  {
   "cell_type": "code",
   "execution_count": 21,
   "id": "4ada02d6",
   "metadata": {},
   "outputs": [
    {
     "name": "stdout",
     "output_type": "stream",
     "text": [
      "[[0.]]\n",
      "Benign\n"
     ]
    }
   ],
   "source": [
    "#Try 6,Expecting class 0 benign result\n",
    "model.save_weights('first_try.h5'),\n",
    "\n",
    "img_pred = image.load_img('C:/Users/Anju Satheesh/Dropbox/My PC (LAPTOP-N0RD666U)/Desktop/mini_project/masterwork/validation/try6_class0.png', target_size = (150, 150))  \n",
    "image_pred = image. img_to_array(img_pred)\n",
    "img_pred = np.expand_dims( img_pred, axis =0 )\n",
    "\n",
    "#Testing\n",
    "result=model.predict(img_pred)\n",
    "print (result)\n",
    "if result[0][0]==0:\n",
    "    prediction = \"Benign\"\n",
    "\n",
    "else:\n",
    "    prediction = \"Mallign\"\n",
    "\n",
    "print (prediction)"
   ]
  },
  {
   "cell_type": "code",
   "execution_count": 22,
   "id": "291eac5e",
   "metadata": {},
   "outputs": [
    {
     "name": "stdout",
     "output_type": "stream",
     "text": [
      "[[0.]]\n",
      "Benign\n"
     ]
    }
   ],
   "source": [
    "#Try 7,Expecting class 0 benign result\n",
    "model.save_weights('first_try.h5'),\n",
    "\n",
    "img_pred = image.load_img('C:/Users/Anju Satheesh/Dropbox/My PC (LAPTOP-N0RD666U)/Desktop/mini_project/masterwork/validation/try7_class0.png', target_size = (150, 150))  \n",
    "image_pred = image. img_to_array(img_pred)\n",
    "img_pred = np.expand_dims( img_pred, axis =0 )\n",
    "\n",
    "#Testing\n",
    "result=model.predict(img_pred)\n",
    "print (result)\n",
    "if result[0][0]==0:\n",
    "    prediction = \"Benign\"\n",
    "\n",
    "else:\n",
    "    prediction = \"Mallign\"\n",
    "\n",
    "print (prediction)"
   ]
  },
  {
   "cell_type": "code",
   "execution_count": 23,
   "id": "6e36f155",
   "metadata": {},
   "outputs": [
    {
     "name": "stdout",
     "output_type": "stream",
     "text": [
      "[[0.]]\n",
      "Benign\n"
     ]
    }
   ],
   "source": [
    "#Try 8,Expecting class 0 benign result\n",
    "model.save_weights('first_try.h5'),\n",
    "\n",
    "img_pred = image.load_img('C:/Users/Anju Satheesh/Dropbox/My PC (LAPTOP-N0RD666U)/Desktop/mini_project/masterwork/validation/try8_class0.png', target_size = (150, 150))  \n",
    "image_pred = image. img_to_array(img_pred)\n",
    "img_pred = np.expand_dims( img_pred, axis =0 )\n",
    "\n",
    "#Testing\n",
    "result=model.predict(img_pred)\n",
    "print (result)\n",
    "if result[0][0]==0:\n",
    "    prediction = \"Benign\"\n",
    "\n",
    "else:\n",
    "    prediction = \"Mallign\"\n",
    "\n",
    "print (prediction)"
   ]
  },
  {
   "cell_type": "code",
   "execution_count": 24,
   "id": "7fdd0014",
   "metadata": {},
   "outputs": [
    {
     "name": "stdout",
     "output_type": "stream",
     "text": [
      "[[0.]]\n",
      "Benign\n"
     ]
    }
   ],
   "source": [
    "#Try 9,Expecting class 0 benign result\n",
    "model.save_weights('first_try.h5'),\n",
    "\n",
    "img_pred = image.load_img('C:/Users/Anju Satheesh/Dropbox/My PC (LAPTOP-N0RD666U)/Desktop/mini_project/masterwork/validation/try9_class0.png', target_size = (150, 150))  \n",
    "image_pred = image. img_to_array(img_pred)\n",
    "img_pred = np.expand_dims( img_pred, axis =0 )\n",
    "\n",
    "#Testing\n",
    "result=model.predict(img_pred)\n",
    "print (result)\n",
    "if result[0][0]==0:\n",
    "    prediction = \"Benign\"\n",
    "\n",
    "else:\n",
    "    prediction = \"Mallign\"\n",
    "\n",
    "print (prediction)"
   ]
  },
  {
   "cell_type": "code",
   "execution_count": 25,
   "id": "6530b869",
   "metadata": {},
   "outputs": [
    {
     "name": "stdout",
     "output_type": "stream",
     "text": [
      "[[0.]]\n",
      "Benign\n"
     ]
    }
   ],
   "source": [
    "#Try 10,Expecting class 0 benign result\n",
    "model.save_weights('first_try.h5'),\n",
    "\n",
    "img_pred = image.load_img('C:/Users/Anju Satheesh/Dropbox/My PC (LAPTOP-N0RD666U)/Desktop/mini_project/masterwork/validation/try10_class0.png', target_size = (150, 150))  \n",
    "image_pred = image. img_to_array(img_pred)\n",
    "img_pred = np.expand_dims( img_pred, axis =0 )\n",
    "\n",
    "#Testing\n",
    "result=model.predict(img_pred)\n",
    "print (result)\n",
    "if result[0][0]==0:\n",
    "    prediction = \"Benign\"\n",
    "\n",
    "else:\n",
    "    prediction = \"Mallign\"\n",
    "\n",
    "print (prediction)"
   ]
  },
  {
   "cell_type": "code",
   "execution_count": 26,
   "id": "dcb92d81",
   "metadata": {},
   "outputs": [
    {
     "name": "stdout",
     "output_type": "stream",
     "text": [
      "[[0.]]\n",
      "Benign\n"
     ]
    }
   ],
   "source": [
    "#Try 11,Expecting class 0 benign result\n",
    "model.save_weights('first_try.h5'),\n",
    "\n",
    "img_pred = image.load_img('C:/Users/Anju Satheesh/Dropbox/My PC (LAPTOP-N0RD666U)/Desktop/mini_project/masterwork/validation/try11_class0.png', target_size = (150, 150))  \n",
    "image_pred = image. img_to_array(img_pred)\n",
    "img_pred = np.expand_dims( img_pred, axis =0 )\n",
    "\n",
    "#Testing\n",
    "result=model.predict(img_pred)\n",
    "print (result)\n",
    "if result[0][0]==0:\n",
    "    prediction = \"Benign\"\n",
    "\n",
    "else:\n",
    "    prediction = \"Mallign\"\n",
    "\n",
    "print (prediction)"
   ]
  },
  {
   "cell_type": "code",
   "execution_count": 27,
   "id": "61080149",
   "metadata": {},
   "outputs": [
    {
     "name": "stdout",
     "output_type": "stream",
     "text": [
      "[[0.]]\n",
      "Benign\n"
     ]
    }
   ],
   "source": [
    "#Try 12,Expecting class 0 benign result\n",
    "model.save_weights('first_try.h5'),\n",
    "\n",
    "img_pred = image.load_img('C:/Users/Anju Satheesh/Dropbox/My PC (LAPTOP-N0RD666U)/Desktop/mini_project/masterwork/validation/try12_class0.png', target_size = (150, 150))  \n",
    "image_pred = image. img_to_array(img_pred)\n",
    "img_pred = np.expand_dims( img_pred, axis =0 )\n",
    "\n",
    "#Testing\n",
    "result=model.predict(img_pred)\n",
    "print (result)\n",
    "if result[0][0]==0:\n",
    "    prediction = \"Benign\"\n",
    "\n",
    "else:\n",
    "    prediction = \"Mallign\"\n",
    "\n",
    "print (prediction)"
   ]
  },
  {
   "cell_type": "code",
   "execution_count": 28,
   "id": "67f8c847",
   "metadata": {},
   "outputs": [
    {
     "name": "stdout",
     "output_type": "stream",
     "text": [
      "[[0.]]\n",
      "Benign\n"
     ]
    }
   ],
   "source": [
    "#Try 13,Expecting class 0 benign result\n",
    "model.save_weights('first_try.h5'),\n",
    "\n",
    "img_pred = image.load_img('C:/Users/Anju Satheesh/Dropbox/My PC (LAPTOP-N0RD666U)/Desktop/mini_project/masterwork/validation/try13_class0.png', target_size = (150, 150))  \n",
    "image_pred = image. img_to_array(img_pred)\n",
    "img_pred = np.expand_dims( img_pred, axis =0 )\n",
    "\n",
    "#Testing\n",
    "result=model.predict(img_pred)\n",
    "print (result)\n",
    "if result[0][0]==0:\n",
    "    prediction = \"Benign\"\n",
    "\n",
    "else:\n",
    "    prediction = \"Mallign\"\n",
    "\n",
    "print (prediction)"
   ]
  },
  {
   "cell_type": "code",
   "execution_count": 29,
   "id": "09e60a5a",
   "metadata": {},
   "outputs": [
    {
     "name": "stdout",
     "output_type": "stream",
     "text": [
      "[[0.]]\n",
      "Benign\n"
     ]
    }
   ],
   "source": [
    "#Try 14,Expecting class 0 benign result\n",
    "model.save_weights('first_try.h5'),\n",
    "\n",
    "img_pred = image.load_img('C:/Users/Anju Satheesh/Dropbox/My PC (LAPTOP-N0RD666U)/Desktop/mini_project/masterwork/validation/try14_class0.png', target_size = (150, 150))  \n",
    "image_pred = image. img_to_array(img_pred)\n",
    "img_pred = np.expand_dims( img_pred, axis =0 )\n",
    "\n",
    "#Testing\n",
    "result=model.predict(img_pred)\n",
    "print (result)\n",
    "if result[0][0]==0:\n",
    "    prediction = \"Benign\"\n",
    "\n",
    "else:\n",
    "    prediction = \"Mallign\"\n",
    "\n",
    "print (prediction)"
   ]
  },
  {
   "cell_type": "code",
   "execution_count": 30,
   "id": "0d287cc2",
   "metadata": {},
   "outputs": [
    {
     "name": "stdout",
     "output_type": "stream",
     "text": [
      "[[0.]]\n",
      "Benign\n"
     ]
    }
   ],
   "source": [
    "#Try 15,Expecting class 0 benign result\n",
    "model.save_weights('first_try.h5'),\n",
    "\n",
    "img_pred = image.load_img('C:/Users/Anju Satheesh/Dropbox/My PC (LAPTOP-N0RD666U)/Desktop/mini_project/masterwork/validation/try15_class0.png', target_size = (150, 150))  \n",
    "image_pred = image. img_to_array(img_pred)\n",
    "img_pred = np.expand_dims( img_pred, axis =0 )\n",
    "\n",
    "#Testing\n",
    "result=model.predict(img_pred)\n",
    "print (result)\n",
    "if result[0][0]==0:\n",
    "    prediction = \"Benign\"\n",
    "\n",
    "else:\n",
    "    prediction = \"Mallign\"\n",
    "\n",
    "print (prediction)"
   ]
  },
  {
   "cell_type": "code",
   "execution_count": 31,
   "id": "2fbb7942",
   "metadata": {},
   "outputs": [
    {
     "name": "stdout",
     "output_type": "stream",
     "text": [
      "[[0.]]\n",
      "Benign\n"
     ]
    }
   ],
   "source": [
    "#Try 16,Expecting class 0 benign result\n",
    "model.save_weights('first_try.h5'),\n",
    "\n",
    "img_pred = image.load_img('C:/Users/Anju Satheesh/Dropbox/My PC (LAPTOP-N0RD666U)/Desktop/mini_project/masterwork/validation/try16_class0.png', target_size = (150, 150))  \n",
    "image_pred = image. img_to_array(img_pred)\n",
    "img_pred = np.expand_dims( img_pred, axis =0 )\n",
    "\n",
    "#Testing\n",
    "result=model.predict(img_pred)\n",
    "print (result)\n",
    "if result[0][0]==0:\n",
    "    prediction = \"Benign\"\n",
    "\n",
    "else:\n",
    "    prediction = \"Mallign\"\n",
    "\n",
    "print (prediction)"
   ]
  },
  {
   "cell_type": "code",
   "execution_count": 32,
   "id": "69e5b5a0",
   "metadata": {},
   "outputs": [
    {
     "name": "stdout",
     "output_type": "stream",
     "text": [
      "[[0.]]\n",
      "Benign\n"
     ]
    }
   ],
   "source": [
    "#Try 17,Expecting class 0 benign result\n",
    "model.save_weights('first_try.h5'),\n",
    "\n",
    "img_pred = image.load_img('C:/Users/Anju Satheesh/Dropbox/My PC (LAPTOP-N0RD666U)/Desktop/mini_project/masterwork/validation/try17_class0.png', target_size = (150, 150))  \n",
    "image_pred = image. img_to_array(img_pred)\n",
    "img_pred = np.expand_dims( img_pred, axis =0 )\n",
    "\n",
    "#Testing\n",
    "result=model.predict(img_pred)\n",
    "print (result)\n",
    "if result[0][0]==0:\n",
    "    prediction = \"Benign\"\n",
    "\n",
    "else:\n",
    "    prediction = \"Mallign\"\n",
    "\n",
    "print (prediction)"
   ]
  },
  {
   "cell_type": "code",
   "execution_count": 33,
   "id": "8f02d6a1",
   "metadata": {},
   "outputs": [
    {
     "name": "stdout",
     "output_type": "stream",
     "text": [
      "[[0.]]\n",
      "Benign\n"
     ]
    }
   ],
   "source": [
    "#Try 18,Expecting class 0 benign result\n",
    "model.save_weights('first_try.h5'),\n",
    "\n",
    "img_pred = image.load_img('C:/Users/Anju Satheesh/Dropbox/My PC (LAPTOP-N0RD666U)/Desktop/mini_project/masterwork/validation/try18_class0.png', target_size = (150, 150))  \n",
    "image_pred = image. img_to_array(img_pred)\n",
    "img_pred = np.expand_dims( img_pred, axis =0 )\n",
    "\n",
    "#Testing\n",
    "result=model.predict(img_pred)\n",
    "print (result)\n",
    "if result[0][0]==0:\n",
    "    prediction = \"Benign\"\n",
    "\n",
    "else:\n",
    "    prediction = \"Mallign\"\n",
    "\n",
    "print (prediction)"
   ]
  },
  {
   "cell_type": "code",
   "execution_count": 34,
   "id": "cea47438",
   "metadata": {},
   "outputs": [
    {
     "name": "stdout",
     "output_type": "stream",
     "text": [
      "[[0.]]\n",
      "Benign\n"
     ]
    }
   ],
   "source": [
    "#Try 19,Expecting class 0 benign result\n",
    "model.save_weights('first_try.h5'),\n",
    "\n",
    "img_pred = image.load_img('C:/Users/Anju Satheesh/Dropbox/My PC (LAPTOP-N0RD666U)/Desktop/mini_project/masterwork/validation/try19_class0.png', target_size = (150, 150))  \n",
    "image_pred = image. img_to_array(img_pred)\n",
    "img_pred = np.expand_dims( img_pred, axis =0 )\n",
    "\n",
    "#Testing\n",
    "result=model.predict(img_pred)\n",
    "print (result)\n",
    "if result[0][0]==0:\n",
    "    prediction = \"Benign\"\n",
    "\n",
    "else:\n",
    "    prediction = \"Mallign\"\n",
    "\n",
    "print (prediction)"
   ]
  },
  {
   "cell_type": "code",
   "execution_count": 35,
   "id": "29a5bd88",
   "metadata": {},
   "outputs": [
    {
     "name": "stdout",
     "output_type": "stream",
     "text": [
      "[[0.]]\n",
      "Benign\n"
     ]
    }
   ],
   "source": [
    "#Try 20,Expecting class 0 benign result\n",
    "model.save_weights('first_try.h5'),\n",
    "\n",
    "img_pred = image.load_img('C:/Users/Anju Satheesh/Dropbox/My PC (LAPTOP-N0RD666U)/Desktop/mini_project/masterwork/validation/try20_class0.png', target_size = (150, 150))  \n",
    "image_pred = image. img_to_array(img_pred)\n",
    "img_pred = np.expand_dims( img_pred, axis =0 )\n",
    "\n",
    "#Testing\n",
    "result=model.predict(img_pred)\n",
    "print (result)\n",
    "if result[0][0]==0:\n",
    "    prediction = \"Benign\"\n",
    "\n",
    "else:\n",
    "    prediction = \"Mallign\"\n",
    "\n",
    "print (prediction)"
   ]
  },
  {
   "cell_type": "code",
   "execution_count": 36,
   "id": "b9be8cce",
   "metadata": {},
   "outputs": [
    {
     "name": "stdout",
     "output_type": "stream",
     "text": [
      "[[0.]]\n",
      "Benign\n"
     ]
    }
   ],
   "source": [
    "#Try 21,Expecting class 0 benign result\n",
    "model.save_weights('first_try.h5'),\n",
    "\n",
    "img_pred = image.load_img('C:/Users/Anju Satheesh/Dropbox/My PC (LAPTOP-N0RD666U)/Desktop/mini_project/masterwork/validation/try21_class0.png', target_size = (150, 150))  \n",
    "image_pred = image. img_to_array(img_pred)\n",
    "img_pred = np.expand_dims( img_pred, axis =0 )\n",
    "\n",
    "#Testing\n",
    "result=model.predict(img_pred)\n",
    "print (result)\n",
    "if result[0][0]==0:\n",
    "    prediction = \"Benign\"\n",
    "\n",
    "else:\n",
    "    prediction = \"Mallign\"\n",
    "\n",
    "print (prediction)"
   ]
  },
  {
   "cell_type": "code",
   "execution_count": 37,
   "id": "5c9137e7",
   "metadata": {},
   "outputs": [
    {
     "name": "stdout",
     "output_type": "stream",
     "text": [
      "[[0.]]\n",
      "Benign\n"
     ]
    }
   ],
   "source": [
    "#Try 22,Expecting class 0 benign result\n",
    "model.save_weights('first_try.h5'),\n",
    "\n",
    "img_pred = image.load_img('C:/Users/Anju Satheesh/Dropbox/My PC (LAPTOP-N0RD666U)/Desktop/mini_project/masterwork/validation/try22_class0.png', target_size = (150, 150))  \n",
    "image_pred = image. img_to_array(img_pred)\n",
    "img_pred = np.expand_dims( img_pred, axis =0 )\n",
    "\n",
    "#Testing\n",
    "result=model.predict(img_pred)\n",
    "print (result)\n",
    "if result[0][0]==0:\n",
    "    prediction = \"Benign\"\n",
    "\n",
    "else:\n",
    "    prediction = \"Mallign\"\n",
    "\n",
    "print (prediction)"
   ]
  },
  {
   "cell_type": "code",
   "execution_count": 38,
   "id": "719b2594",
   "metadata": {},
   "outputs": [
    {
     "name": "stdout",
     "output_type": "stream",
     "text": [
      "[[0.]]\n",
      "Benign\n"
     ]
    }
   ],
   "source": [
    "#Try 23,Expecting class 0 benign result\n",
    "model.save_weights('first_try.h5'),\n",
    "\n",
    "img_pred = image.load_img('C:/Users/Anju Satheesh/Dropbox/My PC (LAPTOP-N0RD666U)/Desktop/mini_project/masterwork/validation/try23_class0.png', target_size = (150, 150))  \n",
    "image_pred = image. img_to_array(img_pred)\n",
    "img_pred = np.expand_dims( img_pred, axis =0 )\n",
    "\n",
    "#Testing\n",
    "result=model.predict(img_pred)\n",
    "print (result)\n",
    "if result[0][0]==0:\n",
    "    prediction = \"Benign\"\n",
    "\n",
    "else:\n",
    "    prediction = \"Mallign\"\n",
    "\n",
    "print (prediction)"
   ]
  },
  {
   "cell_type": "code",
   "execution_count": 39,
   "id": "532305cb",
   "metadata": {},
   "outputs": [
    {
     "name": "stdout",
     "output_type": "stream",
     "text": [
      "[[0.]]\n",
      "Benign\n"
     ]
    }
   ],
   "source": [
    "#Try 24,Expecting class 0 benign result\n",
    "model.save_weights('first_try.h5'),\n",
    "\n",
    "img_pred = image.load_img('C:/Users/Anju Satheesh/Dropbox/My PC (LAPTOP-N0RD666U)/Desktop/mini_project/masterwork/validation/try24_class0.png', target_size = (150, 150))  \n",
    "image_pred = image. img_to_array(img_pred)\n",
    "img_pred = np.expand_dims( img_pred, axis =0 )\n",
    "\n",
    "#Testing\n",
    "result=model.predict(img_pred)\n",
    "print (result)\n",
    "if result[0][0]==0:\n",
    "    prediction = \"Benign\"\n",
    "\n",
    "else:\n",
    "    prediction = \"Mallign\"\n",
    "\n",
    "print (prediction)"
   ]
  },
  {
   "cell_type": "code",
   "execution_count": 40,
   "id": "f3df0b2c",
   "metadata": {},
   "outputs": [
    {
     "name": "stdout",
     "output_type": "stream",
     "text": [
      "[[0.]]\n",
      "Benign\n"
     ]
    }
   ],
   "source": [
    "#Try 25,Expecting class 0 benign result\n",
    "model.save_weights('first_try.h5'),\n",
    "\n",
    "img_pred = image.load_img('C:/Users/Anju Satheesh/Dropbox/My PC (LAPTOP-N0RD666U)/Desktop/mini_project/masterwork/validation/try25_class0.png', target_size = (150, 150))  \n",
    "image_pred = image. img_to_array(img_pred)\n",
    "img_pred = np.expand_dims( img_pred, axis =0 )\n",
    "\n",
    "#Testing\n",
    "result=model.predict(img_pred)\n",
    "print (result)\n",
    "if result[0][0]==0:\n",
    "    prediction = \"Benign\"\n",
    "\n",
    "else:\n",
    "    prediction = \"Mallign\"\n",
    "\n",
    "print (prediction)"
   ]
  },
  {
   "cell_type": "code",
   "execution_count": 41,
   "id": "f60d3ebc",
   "metadata": {},
   "outputs": [
    {
     "name": "stdout",
     "output_type": "stream",
     "text": [
      "[[0.]]\n",
      "Benign\n"
     ]
    }
   ],
   "source": [
    "#Try 26,Expecting class 0 benign result\n",
    "model.save_weights('first_try.h5'),\n",
    "\n",
    "img_pred = image.load_img('C:/Users/Anju Satheesh/Dropbox/My PC (LAPTOP-N0RD666U)/Desktop/mini_project/masterwork/validation/try26_class0.png', target_size = (150, 150))  \n",
    "image_pred = image. img_to_array(img_pred)\n",
    "img_pred = np.expand_dims( img_pred, axis =0 )\n",
    "\n",
    "#Testing\n",
    "result=model.predict(img_pred)\n",
    "print (result)\n",
    "if result[0][0]==0:\n",
    "    prediction = \"Benign\"\n",
    "\n",
    "else:\n",
    "    prediction = \"Mallign\"\n",
    "\n",
    "print (prediction)"
   ]
  },
  {
   "cell_type": "code",
   "execution_count": 42,
   "id": "37f99340",
   "metadata": {},
   "outputs": [
    {
     "name": "stdout",
     "output_type": "stream",
     "text": [
      "[[1.1098077e-08]]\n",
      "Mallign\n"
     ]
    }
   ],
   "source": [
    "#Try 27,Expecting class 0 benign result\n",
    "model.save_weights('first_try.h5'),\n",
    "\n",
    "img_pred = image.load_img('C:/Users/Anju Satheesh/Dropbox/My PC (LAPTOP-N0RD666U)/Desktop/mini_project/masterwork/validation/try27_class0.png', target_size = (150, 150))  \n",
    "image_pred = image. img_to_array(img_pred)\n",
    "img_pred = np.expand_dims( img_pred, axis =0 )\n",
    "\n",
    "#Testing\n",
    "result=model.predict(img_pred)\n",
    "print (result)\n",
    "if result[0][0]==0:\n",
    "    prediction = \"Benign\"\n",
    "\n",
    "else:\n",
    "    prediction = \"Mallign\"\n",
    "\n",
    "print (prediction)"
   ]
  },
  {
   "cell_type": "code",
   "execution_count": 43,
   "id": "ec57609e",
   "metadata": {},
   "outputs": [
    {
     "name": "stdout",
     "output_type": "stream",
     "text": [
      "[[0.]]\n",
      "Benign\n"
     ]
    }
   ],
   "source": [
    "#Try 28,Expecting class 0 benign result\n",
    "model.save_weights('first_try.h5'),\n",
    "\n",
    "img_pred = image.load_img('C:/Users/Anju Satheesh/Dropbox/My PC (LAPTOP-N0RD666U)/Desktop/mini_project/masterwork/validation/try28_class0.png', target_size = (150, 150))  \n",
    "image_pred = image. img_to_array(img_pred)\n",
    "img_pred = np.expand_dims( img_pred, axis =0 )\n",
    "\n",
    "#Testing\n",
    "result=model.predict(img_pred)\n",
    "print (result)\n",
    "if result[0][0]==0:\n",
    "    prediction = \"Benign\"\n",
    "\n",
    "else:\n",
    "    prediction = \"Mallign\"\n",
    "\n",
    "print (prediction)"
   ]
  },
  {
   "cell_type": "code",
   "execution_count": 44,
   "id": "f8192699",
   "metadata": {},
   "outputs": [
    {
     "name": "stdout",
     "output_type": "stream",
     "text": [
      "[[0.]]\n",
      "Benign\n"
     ]
    }
   ],
   "source": [
    "#Try 29,Expecting class 0 benign result\n",
    "model.save_weights('first_try.h5'),\n",
    "\n",
    "img_pred = image.load_img('C:/Users/Anju Satheesh/Dropbox/My PC (LAPTOP-N0RD666U)/Desktop/mini_project/masterwork/validation/try29_class0.png', target_size = (150, 150))  \n",
    "image_pred = image. img_to_array(img_pred)\n",
    "img_pred = np.expand_dims( img_pred, axis =0 )\n",
    "\n",
    "#Testing\n",
    "result=model.predict(img_pred)\n",
    "print (result)\n",
    "if result[0][0]==0:\n",
    "    prediction = \"Benign\"\n",
    "\n",
    "else:\n",
    "    prediction = \"Mallign\"\n",
    "\n",
    "print (prediction)"
   ]
  },
  {
   "cell_type": "code",
   "execution_count": 45,
   "id": "5e459273",
   "metadata": {},
   "outputs": [
    {
     "name": "stdout",
     "output_type": "stream",
     "text": [
      "[[0.]]\n",
      "Benign\n"
     ]
    }
   ],
   "source": [
    "#Try 30,Expecting class 0 benign result\n",
    "model.save_weights('first_try.h5'),\n",
    "\n",
    "img_pred = image.load_img('C:/Users/Anju Satheesh/Dropbox/My PC (LAPTOP-N0RD666U)/Desktop/mini_project/masterwork/validation/try30_class0.png', target_size = (150, 150))  \n",
    "image_pred = image. img_to_array(img_pred)\n",
    "img_pred = np.expand_dims( img_pred, axis =0 )\n",
    "\n",
    "#Testing\n",
    "result=model.predict(img_pred)\n",
    "print (result)\n",
    "if result[0][0]==0:\n",
    "    prediction = \"Benign\"\n",
    "\n",
    "else:\n",
    "    prediction = \"Mallign\"\n",
    "\n",
    "print (prediction)"
   ]
  },
  {
   "cell_type": "code",
   "execution_count": 46,
   "id": "e7869766",
   "metadata": {},
   "outputs": [
    {
     "name": "stdout",
     "output_type": "stream",
     "text": [
      "[[0.]]\n",
      "Benign\n"
     ]
    }
   ],
   "source": [
    "#Try 31,Expecting class 0 benign result\n",
    "model.save_weights('first_try.h5'),\n",
    "\n",
    "img_pred = image.load_img('C:/Users/Anju Satheesh/Dropbox/My PC (LAPTOP-N0RD666U)/Desktop/mini_project/masterwork/validation/try31_class0.png', target_size = (150, 150))  \n",
    "image_pred = image. img_to_array(img_pred)\n",
    "img_pred = np.expand_dims( img_pred, axis =0 )\n",
    "\n",
    "#Testing\n",
    "result=model.predict(img_pred)\n",
    "print (result)\n",
    "if result[0][0]==0:\n",
    "    prediction = \"Benign\"\n",
    "\n",
    "else:\n",
    "    prediction = \"Mallign\"\n",
    "\n",
    "print (prediction)"
   ]
  },
  {
   "cell_type": "code",
   "execution_count": 47,
   "id": "1f8f646f",
   "metadata": {},
   "outputs": [
    {
     "name": "stdout",
     "output_type": "stream",
     "text": [
      "[[0.]]\n",
      "Benign\n"
     ]
    }
   ],
   "source": [
    "#Try 32,Expecting class 0 benign result\n",
    "model.save_weights('first_try.h5'),\n",
    "\n",
    "img_pred = image.load_img('C:/Users/Anju Satheesh/Dropbox/My PC (LAPTOP-N0RD666U)/Desktop/mini_project/masterwork/validation/try32_class0.png', target_size = (150, 150))  \n",
    "image_pred = image. img_to_array(img_pred)\n",
    "img_pred = np.expand_dims( img_pred, axis =0 )\n",
    "\n",
    "#Testing\n",
    "result=model.predict(img_pred)\n",
    "print (result)\n",
    "if result[0][0]==0:\n",
    "    prediction = \"Benign\"\n",
    "\n",
    "else:\n",
    "    prediction = \"Mallign\"\n",
    "\n",
    "print (prediction)"
   ]
  },
  {
   "cell_type": "code",
   "execution_count": 48,
   "id": "3c1e869b",
   "metadata": {},
   "outputs": [
    {
     "name": "stdout",
     "output_type": "stream",
     "text": [
      "[[0.]]\n",
      "Benign\n"
     ]
    }
   ],
   "source": [
    "#Try 33,Expecting class 0 benign result\n",
    "model.save_weights('first_try.h5'),\n",
    "\n",
    "img_pred = image.load_img('C:/Users/Anju Satheesh/Dropbox/My PC (LAPTOP-N0RD666U)/Desktop/mini_project/masterwork/validation/try33_class0.png', target_size = (150, 150))  \n",
    "image_pred = image. img_to_array(img_pred)\n",
    "img_pred = np.expand_dims( img_pred, axis =0 )\n",
    "\n",
    "#Testing\n",
    "result=model.predict(img_pred)\n",
    "print (result)\n",
    "if result[0][0]==0:\n",
    "    prediction = \"Benign\"\n",
    "\n",
    "else:\n",
    "    prediction = \"Mallign\"\n",
    "\n",
    "print (prediction)"
   ]
  },
  {
   "cell_type": "code",
   "execution_count": 49,
   "id": "0eb58f69",
   "metadata": {},
   "outputs": [
    {
     "name": "stdout",
     "output_type": "stream",
     "text": [
      "[[0.]]\n",
      "Benign\n"
     ]
    }
   ],
   "source": [
    "#Try 34,Expecting class 0 benign result\n",
    "model.save_weights('first_try.h5'),\n",
    "\n",
    "img_pred = image.load_img('C:/Users/Anju Satheesh/Dropbox/My PC (LAPTOP-N0RD666U)/Desktop/mini_project/masterwork/validation/try34_class0.png', target_size = (150, 150))  \n",
    "image_pred = image. img_to_array(img_pred)\n",
    "img_pred = np.expand_dims( img_pred, axis =0 )\n",
    "\n",
    "#Testing\n",
    "result=model.predict(img_pred)\n",
    "print (result)\n",
    "if result[0][0]==0:\n",
    "    prediction = \"Benign\"\n",
    "\n",
    "else:\n",
    "    prediction = \"Mallign\"\n",
    "\n",
    "print (prediction)"
   ]
  },
  {
   "cell_type": "code",
   "execution_count": 50,
   "id": "85a1d6af",
   "metadata": {},
   "outputs": [
    {
     "name": "stdout",
     "output_type": "stream",
     "text": [
      "[[0.]]\n",
      "Benign\n"
     ]
    }
   ],
   "source": [
    "#Try 35,Expecting class 0 benign result\n",
    "model.save_weights('first_try.h5'),\n",
    "\n",
    "img_pred = image.load_img('C:/Users/Anju Satheesh/Dropbox/My PC (LAPTOP-N0RD666U)/Desktop/mini_project/masterwork/validation/try35_class0.png', target_size = (150, 150))  \n",
    "image_pred = image. img_to_array(img_pred)\n",
    "img_pred = np.expand_dims( img_pred, axis =0 )\n",
    "\n",
    "#Testing\n",
    "result=model.predict(img_pred)\n",
    "print (result)\n",
    "if result[0][0]==0:\n",
    "    prediction = \"Benign\"\n",
    "\n",
    "else:\n",
    "    prediction = \"Mallign\"\n",
    "\n",
    "print (prediction)"
   ]
  },
  {
   "cell_type": "code",
   "execution_count": 51,
   "id": "c8d6a3e6",
   "metadata": {},
   "outputs": [
    {
     "name": "stdout",
     "output_type": "stream",
     "text": [
      "[[0.]]\n",
      "Benign\n"
     ]
    }
   ],
   "source": [
    "#Try 36,Expecting class 0 benign result\n",
    "model.save_weights('first_try.h5'),\n",
    "\n",
    "img_pred = image.load_img('C:/Users/Anju Satheesh/Dropbox/My PC (LAPTOP-N0RD666U)/Desktop/mini_project/masterwork/validation/try36_class0.png', target_size = (150, 150))  \n",
    "image_pred = image. img_to_array(img_pred)\n",
    "img_pred = np.expand_dims( img_pred, axis =0 )\n",
    "\n",
    "#Testing\n",
    "result=model.predict(img_pred)\n",
    "print (result)\n",
    "if result[0][0]==0:\n",
    "    prediction = \"Benign\"\n",
    "\n",
    "else:\n",
    "    prediction = \"Mallign\"\n",
    "\n",
    "print (prediction)"
   ]
  },
  {
   "cell_type": "code",
   "execution_count": 52,
   "id": "65da0e3a",
   "metadata": {},
   "outputs": [
    {
     "name": "stdout",
     "output_type": "stream",
     "text": [
      "[[0.]]\n",
      "Benign\n"
     ]
    }
   ],
   "source": [
    "#Try 37,Expecting class 0 benign result\n",
    "model.save_weights('first_try.h5'),\n",
    "\n",
    "img_pred = image.load_img('C:/Users/Anju Satheesh/Dropbox/My PC (LAPTOP-N0RD666U)/Desktop/mini_project/masterwork/validation/try37_class0.png', target_size = (150, 150))  \n",
    "image_pred = image. img_to_array(img_pred)\n",
    "img_pred = np.expand_dims( img_pred, axis =0 )\n",
    "\n",
    "#Testing\n",
    "result=model.predict(img_pred)\n",
    "print (result)\n",
    "if result[0][0]==0:\n",
    "    prediction = \"Benign\"\n",
    "\n",
    "else:\n",
    "    prediction = \"Mallign\"\n",
    "\n",
    "print (prediction)"
   ]
  },
  {
   "cell_type": "code",
   "execution_count": 53,
   "id": "ae9edce5",
   "metadata": {},
   "outputs": [
    {
     "name": "stdout",
     "output_type": "stream",
     "text": [
      "[[0.]]\n",
      "Benign\n"
     ]
    }
   ],
   "source": [
    "#Try 38,Expecting class 0 benign result\n",
    "model.save_weights('first_try.h5'),\n",
    "\n",
    "img_pred = image.load_img('C:/Users/Anju Satheesh/Dropbox/My PC (LAPTOP-N0RD666U)/Desktop/mini_project/masterwork/validation/try38_class0.png', target_size = (150, 150))  \n",
    "image_pred = image. img_to_array(img_pred)\n",
    "img_pred = np.expand_dims( img_pred, axis =0 )\n",
    "\n",
    "#Testing\n",
    "result=model.predict(img_pred)\n",
    "print (result)\n",
    "if result[0][0]==0:\n",
    "    prediction = \"Benign\"\n",
    "\n",
    "else:\n",
    "    prediction = \"Mallign\"\n",
    "\n",
    "print (prediction)"
   ]
  },
  {
   "cell_type": "code",
   "execution_count": 54,
   "id": "4e2bda14",
   "metadata": {},
   "outputs": [
    {
     "name": "stdout",
     "output_type": "stream",
     "text": [
      "[[0.]]\n",
      "Benign\n"
     ]
    }
   ],
   "source": [
    "#Try 39,Expecting class 0 benign result\n",
    "model.save_weights('first_try.h5'),\n",
    "\n",
    "img_pred = image.load_img('C:/Users/Anju Satheesh/Dropbox/My PC (LAPTOP-N0RD666U)/Desktop/mini_project/masterwork/validation/try39_class0.png', target_size = (150, 150))  \n",
    "image_pred = image. img_to_array(img_pred)\n",
    "img_pred = np.expand_dims( img_pred, axis =0 )\n",
    "\n",
    "#Testing\n",
    "result=model.predict(img_pred)\n",
    "print (result)\n",
    "if result[0][0]==0:\n",
    "    prediction = \"Benign\"\n",
    "\n",
    "else:\n",
    "    prediction = \"Mallign\"\n",
    "\n",
    "print (prediction)"
   ]
  },
  {
   "cell_type": "code",
   "execution_count": 55,
   "id": "fb0ed4ed",
   "metadata": {},
   "outputs": [
    {
     "name": "stdout",
     "output_type": "stream",
     "text": [
      "[[0.]]\n",
      "Benign\n"
     ]
    }
   ],
   "source": [
    "#Try 40,Expecting class 0 benign result\n",
    "model.save_weights('first_try.h5'),\n",
    "\n",
    "img_pred = image.load_img('C:/Users/Anju Satheesh/Dropbox/My PC (LAPTOP-N0RD666U)/Desktop/mini_project/masterwork/validation/try40_class0.png', target_size = (150, 150))  \n",
    "image_pred = image. img_to_array(img_pred)\n",
    "img_pred = np.expand_dims( img_pred, axis =0 )\n",
    "\n",
    "#Testing\n",
    "result=model.predict(img_pred)\n",
    "print (result)\n",
    "if result[0][0]==0:\n",
    "    prediction = \"Benign\"\n",
    "\n",
    "else:\n",
    "    prediction = \"Mallign\"\n",
    "\n",
    "print (prediction)"
   ]
  },
  {
   "cell_type": "code",
   "execution_count": 56,
   "id": "c3fc6656",
   "metadata": {},
   "outputs": [
    {
     "name": "stdout",
     "output_type": "stream",
     "text": [
      "[[0.]]\n",
      "Benign\n"
     ]
    }
   ],
   "source": [
    "#Try 41,Expecting class 0 benign result\n",
    "model.save_weights('first_try.h5'),\n",
    "\n",
    "img_pred = image.load_img('C:/Users/Anju Satheesh/Dropbox/My PC (LAPTOP-N0RD666U)/Desktop/mini_project/masterwork/validation/try41_class0.png', target_size = (150, 150))  \n",
    "image_pred = image. img_to_array(img_pred)\n",
    "img_pred = np.expand_dims( img_pred, axis =0 )\n",
    "\n",
    "#Testing\n",
    "result=model.predict(img_pred)\n",
    "print (result)\n",
    "if result[0][0]==0:\n",
    "    prediction = \"Benign\"\n",
    "\n",
    "else:\n",
    "    prediction = \"Mallign\"\n",
    "\n",
    "print (prediction)"
   ]
  },
  {
   "cell_type": "code",
   "execution_count": 57,
   "id": "afbc844d",
   "metadata": {},
   "outputs": [
    {
     "name": "stdout",
     "output_type": "stream",
     "text": [
      "[[0.]]\n",
      "Benign\n"
     ]
    }
   ],
   "source": [
    "#Try 42,Expecting class 0 benign result\n",
    "model.save_weights('first_try.h5'),\n",
    "\n",
    "img_pred = image.load_img('C:/Users/Anju Satheesh/Dropbox/My PC (LAPTOP-N0RD666U)/Desktop/mini_project/masterwork/validation/try42_class0.png', target_size = (150, 150))  \n",
    "image_pred = image. img_to_array(img_pred)\n",
    "img_pred = np.expand_dims( img_pred, axis =0 )\n",
    "\n",
    "#Testing\n",
    "result=model.predict(img_pred)\n",
    "print (result)\n",
    "if result[0][0]==0:\n",
    "    prediction = \"Benign\"\n",
    "\n",
    "else:\n",
    "    prediction = \"Mallign\"\n",
    "\n",
    "print (prediction)"
   ]
  },
  {
   "cell_type": "code",
   "execution_count": 58,
   "id": "06ceeb14",
   "metadata": {},
   "outputs": [
    {
     "name": "stdout",
     "output_type": "stream",
     "text": [
      "[[0.]]\n",
      "Benign\n"
     ]
    }
   ],
   "source": [
    "#Try 43,Expecting class 0 benign result\n",
    "model.save_weights('first_try.h5'),\n",
    "\n",
    "img_pred = image.load_img('C:/Users/Anju Satheesh/Dropbox/My PC (LAPTOP-N0RD666U)/Desktop/mini_project/masterwork/validation/try43_class0.png', target_size = (150, 150))  \n",
    "image_pred = image. img_to_array(img_pred)\n",
    "img_pred = np.expand_dims( img_pred, axis =0 )\n",
    "\n",
    "#Testing\n",
    "result=model.predict(img_pred)\n",
    "print (result)\n",
    "if result[0][0]==0:\n",
    "    prediction = \"Benign\"\n",
    "\n",
    "else:\n",
    "    prediction = \"Mallign\"\n",
    "\n",
    "print (prediction)"
   ]
  },
  {
   "cell_type": "code",
   "execution_count": 59,
   "id": "42a4641f",
   "metadata": {},
   "outputs": [
    {
     "name": "stdout",
     "output_type": "stream",
     "text": [
      "[[0.]]\n",
      "Benign\n"
     ]
    }
   ],
   "source": [
    "#Try 44,Expecting class 0 benign result\n",
    "model.save_weights('first_try.h5'),\n",
    "\n",
    "img_pred = image.load_img('C:/Users/Anju Satheesh/Dropbox/My PC (LAPTOP-N0RD666U)/Desktop/mini_project/masterwork/validation/try44_class0.png', target_size = (150, 150))  \n",
    "image_pred = image. img_to_array(img_pred)\n",
    "img_pred = np.expand_dims( img_pred, axis =0 )\n",
    "\n",
    "#Testing\n",
    "result=model.predict(img_pred)\n",
    "print (result)\n",
    "if result[0][0]==0:\n",
    "    prediction = \"Benign\"\n",
    "\n",
    "else:\n",
    "    prediction = \"Mallign\"\n",
    "\n",
    "print (prediction)"
   ]
  },
  {
   "cell_type": "code",
   "execution_count": 60,
   "id": "3101c182",
   "metadata": {},
   "outputs": [
    {
     "name": "stdout",
     "output_type": "stream",
     "text": [
      "[[0.]]\n",
      "Benign\n"
     ]
    }
   ],
   "source": [
    "#Try 45 Expecting class 0 benign result\n",
    "model.save_weights('first_try.h5'),\n",
    "\n",
    "img_pred = image.load_img('C:/Users/Anju Satheesh/Dropbox/My PC (LAPTOP-N0RD666U)/Desktop/mini_project/masterwork/validation/try45_class0.png', target_size = (150, 150))  \n",
    "image_pred = image. img_to_array(img_pred)\n",
    "img_pred = np.expand_dims( img_pred, axis =0 )\n",
    "\n",
    "#Testing\n",
    "result=model.predict(img_pred)\n",
    "print (result)\n",
    "if result[0][0]==0:\n",
    "    prediction = \"Benign\"\n",
    "\n",
    "else:\n",
    "    prediction = \"Mallign\"\n",
    "\n",
    "print (prediction)"
   ]
  },
  {
   "cell_type": "code",
   "execution_count": 61,
   "id": "9930d848",
   "metadata": {},
   "outputs": [
    {
     "name": "stdout",
     "output_type": "stream",
     "text": [
      "[[0.]]\n",
      "Benign\n"
     ]
    }
   ],
   "source": [
    "#Try 46,Expecting class 0 benign result\n",
    "model.save_weights('first_try.h5'),\n",
    "\n",
    "img_pred = image.load_img('C:/Users/Anju Satheesh/Dropbox/My PC (LAPTOP-N0RD666U)/Desktop/mini_project/masterwork/validation/try46_class0.png', target_size = (150, 150))  \n",
    "image_pred = image. img_to_array(img_pred)\n",
    "img_pred = np.expand_dims( img_pred, axis =0 )\n",
    "\n",
    "#Testing\n",
    "result=model.predict(img_pred)\n",
    "print (result)\n",
    "if result[0][0]==0:\n",
    "    prediction = \"Benign\"\n",
    "\n",
    "else:\n",
    "    prediction = \"Mallign\"\n",
    "\n",
    "print (prediction)"
   ]
  },
  {
   "cell_type": "code",
   "execution_count": 62,
   "id": "7b270433",
   "metadata": {},
   "outputs": [
    {
     "name": "stdout",
     "output_type": "stream",
     "text": [
      "[[0.]]\n",
      "Benign\n"
     ]
    }
   ],
   "source": [
    "#Try 47,Expecting class 0 benign result\n",
    "model.save_weights('first_try.h5'),\n",
    "\n",
    "img_pred = image.load_img('C:/Users/Anju Satheesh/Dropbox/My PC (LAPTOP-N0RD666U)/Desktop/mini_project/masterwork/validation/try47_class0.png', target_size = (150, 150))  \n",
    "image_pred = image. img_to_array(img_pred)\n",
    "img_pred = np.expand_dims( img_pred, axis =0 )\n",
    "\n",
    "#Testing\n",
    "result=model.predict(img_pred)\n",
    "print (result)\n",
    "if result[0][0]==0:\n",
    "    prediction = \"Benign\"\n",
    "\n",
    "else:\n",
    "    prediction = \"Mallign\"\n",
    "\n",
    "print (prediction)"
   ]
  },
  {
   "cell_type": "code",
   "execution_count": 63,
   "id": "6688fd67",
   "metadata": {},
   "outputs": [
    {
     "name": "stdout",
     "output_type": "stream",
     "text": [
      "[[0.]]\n",
      "Benign\n"
     ]
    }
   ],
   "source": [
    "#Try 48,Expecting class 0 benign result\n",
    "model.save_weights('first_try.h5'),\n",
    "\n",
    "img_pred = image.load_img('C:/Users/Anju Satheesh/Dropbox/My PC (LAPTOP-N0RD666U)/Desktop/mini_project/masterwork/validation/try48_class0.png', target_size = (150, 150))  \n",
    "image_pred = image. img_to_array(img_pred)\n",
    "img_pred = np.expand_dims( img_pred, axis =0 )\n",
    "\n",
    "#Testing\n",
    "result=model.predict(img_pred)\n",
    "print (result)\n",
    "if result[0][0]==0:\n",
    "    prediction = \"Benign\"\n",
    "\n",
    "else:\n",
    "    prediction = \"Mallign\"\n",
    "\n",
    "print (prediction)"
   ]
  },
  {
   "cell_type": "code",
   "execution_count": 64,
   "id": "01fac518",
   "metadata": {},
   "outputs": [
    {
     "name": "stdout",
     "output_type": "stream",
     "text": [
      "[[0.]]\n",
      "Benign\n"
     ]
    }
   ],
   "source": [
    "#Try 49,Expecting class 0 benign result\n",
    "model.save_weights('first_try.h5'),\n",
    "\n",
    "img_pred = image.load_img('C:/Users/Anju Satheesh/Dropbox/My PC (LAPTOP-N0RD666U)/Desktop/mini_project/masterwork/validation/try49_class0.png', target_size = (150, 150))  \n",
    "image_pred = image. img_to_array(img_pred)\n",
    "img_pred = np.expand_dims( img_pred, axis =0 )\n",
    "\n",
    "#Testing\n",
    "result=model.predict(img_pred)\n",
    "print (result)\n",
    "if result[0][0]==0:\n",
    "    prediction = \"Benign\"\n",
    "\n",
    "else:\n",
    "    prediction = \"Mallign\"\n",
    "\n",
    "print (prediction)"
   ]
  },
  {
   "cell_type": "code",
   "execution_count": 65,
   "id": "81b5c797",
   "metadata": {},
   "outputs": [
    {
     "name": "stdout",
     "output_type": "stream",
     "text": [
      "[[0.]]\n",
      "Benign\n"
     ]
    }
   ],
   "source": [
    "#Try 50,Expecting class 0 benign result\n",
    "model.save_weights('first_try.h5'),\n",
    "\n",
    "img_pred = image.load_img('C:/Users/Anju Satheesh/Dropbox/My PC (LAPTOP-N0RD666U)/Desktop/mini_project/masterwork/validation/try50_class0.png', target_size = (150, 150))  \n",
    "image_pred = image. img_to_array(img_pred)\n",
    "img_pred = np.expand_dims( img_pred, axis =0 )\n",
    "\n",
    "#Testing\n",
    "result=model.predict(img_pred)\n",
    "print (result)\n",
    "if result[0][0]==0:\n",
    "    prediction = \"Benign\"\n",
    "\n",
    "else:\n",
    "    prediction = \"Mallign\"\n",
    "\n",
    "print (prediction)"
   ]
  },
  {
   "cell_type": "code",
   "execution_count": 66,
   "id": "585b16ee",
   "metadata": {},
   "outputs": [
    {
     "name": "stdout",
     "output_type": "stream",
     "text": [
      "[[0.]]\n",
      "Benign\n"
     ]
    }
   ],
   "source": [
    "#Try 51,Expecting class 0 benign result\n",
    "model.save_weights('first_try.h5'),\n",
    "\n",
    "img_pred = image.load_img('C:/Users/Anju Satheesh/Dropbox/My PC (LAPTOP-N0RD666U)/Desktop/mini_project/masterwork/validation/try51_class0.png', target_size = (150, 150))  \n",
    "image_pred = image. img_to_array(img_pred)\n",
    "img_pred = np.expand_dims( img_pred, axis =0 )\n",
    "\n",
    "#Testing\n",
    "result=model.predict(img_pred)\n",
    "print (result)\n",
    "if result[0][0]==0:\n",
    "    prediction = \"Benign\"\n",
    "\n",
    "else:\n",
    "    prediction = \"Mallign\"\n",
    "\n",
    "print (prediction)"
   ]
  },
  {
   "cell_type": "code",
   "execution_count": 67,
   "id": "d9c1104b",
   "metadata": {},
   "outputs": [
    {
     "name": "stdout",
     "output_type": "stream",
     "text": [
      "[[0.]]\n",
      "Benign\n"
     ]
    }
   ],
   "source": [
    "#Try 52,Expecting class 0 benign result\n",
    "model.save_weights('first_try.h5'),\n",
    "\n",
    "img_pred = image.load_img('C:/Users/Anju Satheesh/Dropbox/My PC (LAPTOP-N0RD666U)/Desktop/mini_project/masterwork/validation/try52_class0.png', target_size = (150, 150))  \n",
    "image_pred = image. img_to_array(img_pred)\n",
    "img_pred = np.expand_dims( img_pred, axis =0 )\n",
    "\n",
    "#Testing\n",
    "result=model.predict(img_pred)\n",
    "print (result)\n",
    "if result[0][0]==0:\n",
    "    prediction = \"Benign\"\n",
    "\n",
    "else:\n",
    "    prediction = \"Mallign\"\n",
    "\n",
    "print (prediction)"
   ]
  },
  {
   "cell_type": "code",
   "execution_count": 68,
   "id": "5afb4120",
   "metadata": {},
   "outputs": [
    {
     "name": "stdout",
     "output_type": "stream",
     "text": [
      "[[1.]]\n",
      "Mallign\n"
     ]
    }
   ],
   "source": [
    "#Try 53,Expecting class 1 benign result\n",
    "model.save_weights('first_try.h5'),\n",
    "\n",
    "img_pred = image.load_img('C:/Users/Anju Satheesh/Dropbox/My PC (LAPTOP-N0RD666U)/Desktop/mini_project/masterwork/validation/New folder/try53_class1.png', target_size = (150, 150))  \n",
    "image_pred = image. img_to_array(img_pred)\n",
    "img_pred = np.expand_dims( img_pred, axis =0 )\n",
    "\n",
    "#Testing\n",
    "result=model.predict(img_pred)\n",
    "print (result)\n",
    "if result[0][0]==0:\n",
    "    prediction = \"Benign\"\n",
    "\n",
    "else:\n",
    "    prediction = \"Mallign\"\n",
    "\n",
    "print (prediction)"
   ]
  },
  {
   "cell_type": "code",
   "execution_count": 69,
   "id": "ee9d9285",
   "metadata": {},
   "outputs": [
    {
     "name": "stdout",
     "output_type": "stream",
     "text": [
      "[[1.]]\n",
      "Mallign\n"
     ]
    }
   ],
   "source": [
    "#Try 54,Expecting class 1 malign result\n",
    "model.save_weights('first_try.h5'),\n",
    "\n",
    "img_pred = image.load_img('C:/Users/Anju Satheesh/Dropbox/My PC (LAPTOP-N0RD666U)/Desktop/mini_project/masterwork/validation/New folder/try54_class1.png', target_size = (150, 150))  \n",
    "image_pred = image. img_to_array(img_pred)\n",
    "img_pred = np.expand_dims( img_pred, axis =0 )\n",
    "\n",
    "#Testing\n",
    "result=model.predict(img_pred)\n",
    "print (result)\n",
    "if result[0][0]==0:\n",
    "    prediction = \"Benign\"\n",
    "\n",
    "else:\n",
    "    prediction = \"Mallign\"\n",
    "\n",
    "print (prediction)"
   ]
  },
  {
   "cell_type": "code",
   "execution_count": 70,
   "id": "c4374292",
   "metadata": {},
   "outputs": [
    {
     "name": "stdout",
     "output_type": "stream",
     "text": [
      "[[1.]]\n",
      "Mallign\n"
     ]
    }
   ],
   "source": [
    "#Try 55,Expecting class 1 malign result\n",
    "model.save_weights('first_try.h5'),\n",
    "\n",
    "img_pred = image.load_img('C:/Users/Anju Satheesh/Dropbox/My PC (LAPTOP-N0RD666U)/Desktop/mini_project/masterwork/validation/New folder/try55_class1.png', target_size = (150, 150))  \n",
    "image_pred = image. img_to_array(img_pred)\n",
    "img_pred = np.expand_dims( img_pred, axis =0 )\n",
    "\n",
    "#Testing\n",
    "result=model.predict(img_pred)\n",
    "print (result)\n",
    "if result[0][0]==0:\n",
    "    prediction = \"Benign\"\n",
    "\n",
    "else:\n",
    "    prediction = \"Mallign\"\n",
    "\n",
    "print (prediction)"
   ]
  },
  {
   "cell_type": "code",
   "execution_count": 71,
   "id": "5f493bea",
   "metadata": {},
   "outputs": [
    {
     "name": "stdout",
     "output_type": "stream",
     "text": [
      "[[1.]]\n",
      "Mallign\n"
     ]
    }
   ],
   "source": [
    "#Try 56,Expecting class 1 malign result\n",
    "model.save_weights('first_try.h5'),\n",
    "\n",
    "img_pred = image.load_img('C:/Users/Anju Satheesh/Dropbox/My PC (LAPTOP-N0RD666U)/Desktop/mini_project/masterwork/validation/New folder/try56_class1.png', target_size = (150, 150))  \n",
    "image_pred = image. img_to_array(img_pred)\n",
    "img_pred = np.expand_dims( img_pred, axis =0 )\n",
    "\n",
    "#Testing\n",
    "result=model.predict(img_pred)\n",
    "print (result)\n",
    "if result[0][0]==0:\n",
    "    prediction = \"Benign\"\n",
    "\n",
    "else:\n",
    "    prediction = \"Mallign\"\n",
    "\n",
    "print (prediction)"
   ]
  },
  {
   "cell_type": "code",
   "execution_count": 72,
   "id": "ef95789b",
   "metadata": {},
   "outputs": [
    {
     "name": "stdout",
     "output_type": "stream",
     "text": [
      "[[1.]]\n",
      "Mallign\n"
     ]
    }
   ],
   "source": [
    "#Try 57,Expecting class 1malign result\n",
    "model.save_weights('first_try.h5'),\n",
    "\n",
    "img_pred = image.load_img('C:/Users/Anju Satheesh/Dropbox/My PC (LAPTOP-N0RD666U)/Desktop/mini_project/masterwork/validation/New folder/try57_class1.png', target_size = (150, 150))  \n",
    "image_pred = image. img_to_array(img_pred)\n",
    "img_pred = np.expand_dims( img_pred, axis =0 )\n",
    "\n",
    "#Testing\n",
    "result=model.predict(img_pred)\n",
    "print (result)\n",
    "if result[0][0]==0:\n",
    "    prediction = \"Benign\"\n",
    "\n",
    "else:\n",
    "    prediction = \"Mallign\"\n",
    "\n",
    "print (prediction)"
   ]
  },
  {
   "cell_type": "code",
   "execution_count": 73,
   "id": "6c01b854",
   "metadata": {},
   "outputs": [
    {
     "name": "stdout",
     "output_type": "stream",
     "text": [
      "[[1.]]\n",
      "Mallign\n"
     ]
    }
   ],
   "source": [
    "#Try 58,Expecting class 1 malign result\n",
    "model.save_weights('first_try.h5'),\n",
    "\n",
    "img_pred = image.load_img('C:/Users/Anju Satheesh/Dropbox/My PC (LAPTOP-N0RD666U)/Desktop/mini_project/masterwork/validation/New folder/try58_class1.png', target_size = (150, 150))  \n",
    "image_pred = image. img_to_array(img_pred)\n",
    "img_pred = np.expand_dims( img_pred, axis =0 )\n",
    "\n",
    "#Testing\n",
    "result=model.predict(img_pred)\n",
    "print (result)\n",
    "if result[0][0]==0:\n",
    "    prediction = \"Benign\"\n",
    "\n",
    "else:\n",
    "    prediction = \"Mallign\"\n",
    "\n",
    "print (prediction)"
   ]
  },
  {
   "cell_type": "code",
   "execution_count": 74,
   "id": "e63244cf",
   "metadata": {},
   "outputs": [
    {
     "name": "stdout",
     "output_type": "stream",
     "text": [
      "[[0.]]\n",
      "Benign\n"
     ]
    }
   ],
   "source": [
    "#Try 59,Expecting class 1 malign result\n",
    "model.save_weights('first_try.h5'),\n",
    "\n",
    "img_pred = image.load_img('C:/Users/Anju Satheesh/Dropbox/My PC (LAPTOP-N0RD666U)/Desktop/mini_project/masterwork/validation/New folder/try59_class1.png', target_size = (150, 150))  \n",
    "image_pred = image. img_to_array(img_pred)\n",
    "img_pred = np.expand_dims( img_pred, axis =0 )\n",
    "\n",
    "#Testing\n",
    "result=model.predict(img_pred)\n",
    "print (result)\n",
    "if result[0][0]==0:\n",
    "    prediction = \"Benign\"\n",
    "\n",
    "else:\n",
    "    prediction = \"Mallign\"\n",
    "\n",
    "print (prediction)"
   ]
  },
  {
   "cell_type": "code",
   "execution_count": 75,
   "id": "1053390e",
   "metadata": {},
   "outputs": [
    {
     "name": "stdout",
     "output_type": "stream",
     "text": [
      "[[1.]]\n",
      "Mallign\n"
     ]
    }
   ],
   "source": [
    "#Try 60,Expecting class 1 malign result\n",
    "model.save_weights('first_try.h5'),\n",
    "\n",
    "img_pred = image.load_img('C:/Users/Anju Satheesh/Dropbox/My PC (LAPTOP-N0RD666U)/Desktop/mini_project/masterwork/validation/New folder/try60_class1.png', target_size = (150, 150))  \n",
    "image_pred = image. img_to_array(img_pred)\n",
    "img_pred = np.expand_dims( img_pred, axis =0 )\n",
    "\n",
    "#Testing\n",
    "result=model.predict(img_pred)\n",
    "print (result)\n",
    "if result[0][0]==0:\n",
    "    prediction = \"Benign\"\n",
    "\n",
    "else:\n",
    "    prediction = \"Mallign\"\n",
    "\n",
    "print (prediction)"
   ]
  },
  {
   "cell_type": "code",
   "execution_count": 76,
   "id": "7222bfed",
   "metadata": {},
   "outputs": [
    {
     "name": "stdout",
     "output_type": "stream",
     "text": [
      "[[1.]]\n",
      "Mallign\n"
     ]
    }
   ],
   "source": [
    "#Try 61,Expecting class 1 malign result\n",
    "model.save_weights('first_try.h5'),\n",
    "\n",
    "img_pred = image.load_img('C:/Users/Anju Satheesh/Dropbox/My PC (LAPTOP-N0RD666U)/Desktop/mini_project/masterwork/validation/New folder/try61_class1.png', target_size = (150, 150))  \n",
    "image_pred = image. img_to_array(img_pred)\n",
    "img_pred = np.expand_dims( img_pred, axis =0 )\n",
    "\n",
    "#Testing\n",
    "result=model.predict(img_pred)\n",
    "print (result)\n",
    "if result[0][0]==0:\n",
    "    prediction = \"Benign\"\n",
    "\n",
    "else:\n",
    "    prediction = \"Mallign\"\n",
    "\n",
    "print (prediction)"
   ]
  },
  {
   "cell_type": "code",
   "execution_count": 77,
   "id": "ed6ef77f",
   "metadata": {},
   "outputs": [
    {
     "name": "stdout",
     "output_type": "stream",
     "text": [
      "[[1.]]\n",
      "Mallign\n"
     ]
    }
   ],
   "source": [
    "#Try 62,Expecting class 1 malign result\n",
    "model.save_weights('first_try.h5'),\n",
    "\n",
    "img_pred = image.load_img('C:/Users/Anju Satheesh/Dropbox/My PC (LAPTOP-N0RD666U)/Desktop/mini_project/masterwork/validation/New folder/try62_class1.png', target_size = (150, 150))  \n",
    "image_pred = image. img_to_array(img_pred)\n",
    "img_pred = np.expand_dims( img_pred, axis =0 )\n",
    "\n",
    "#Testing\n",
    "result=model.predict(img_pred)\n",
    "print (result)\n",
    "if result[0][0]==0:\n",
    "    prediction = \"Benign\"\n",
    "\n",
    "else:\n",
    "    prediction = \"Mallign\"\n",
    "\n",
    "print (prediction)"
   ]
  },
  {
   "cell_type": "code",
   "execution_count": 78,
   "id": "78927e98",
   "metadata": {},
   "outputs": [
    {
     "name": "stdout",
     "output_type": "stream",
     "text": [
      "[[1.]]\n",
      "Mallign\n"
     ]
    }
   ],
   "source": [
    "#Try 63,Expecting class 1 malign result\n",
    "model.save_weights('first_try.h5'),\n",
    "\n",
    "img_pred = image.load_img('C:/Users/Anju Satheesh/Dropbox/My PC (LAPTOP-N0RD666U)/Desktop/mini_project/masterwork/validation/New folder/try63_class1.png', target_size = (150, 150))  \n",
    "image_pred = image. img_to_array(img_pred)\n",
    "img_pred = np.expand_dims( img_pred, axis =0 )\n",
    "\n",
    "#Testing\n",
    "result=model.predict(img_pred)\n",
    "print (result)\n",
    "if result[0][0]==0:\n",
    "    prediction = \"Benign\"\n",
    "\n",
    "else:\n",
    "    prediction = \"Mallign\"\n",
    "\n",
    "print (prediction)"
   ]
  },
  {
   "cell_type": "code",
   "execution_count": 79,
   "id": "8c31ca76",
   "metadata": {},
   "outputs": [
    {
     "name": "stdout",
     "output_type": "stream",
     "text": [
      "[[1.]]\n",
      "Mallign\n"
     ]
    }
   ],
   "source": [
    "#Try 64,Expecting class 1 malign result\n",
    "model.save_weights('first_try.h5'),\n",
    "\n",
    "img_pred = image.load_img('C:/Users/Anju Satheesh/Dropbox/My PC (LAPTOP-N0RD666U)/Desktop/mini_project/masterwork/validation/New folder/try64_class1.png', target_size = (150, 150))  \n",
    "image_pred = image. img_to_array(img_pred)\n",
    "img_pred = np.expand_dims( img_pred, axis =0 )\n",
    "\n",
    "#Testing\n",
    "result=model.predict(img_pred)\n",
    "print (result)\n",
    "if result[0][0]==0:\n",
    "    prediction = \"Benign\"\n",
    "\n",
    "else:\n",
    "    prediction = \"Mallign\"\n",
    "\n",
    "print (prediction)"
   ]
  },
  {
   "cell_type": "code",
   "execution_count": 80,
   "id": "cd1f209a",
   "metadata": {},
   "outputs": [
    {
     "name": "stdout",
     "output_type": "stream",
     "text": [
      "[[1.]]\n",
      "Mallign\n"
     ]
    }
   ],
   "source": [
    "#Try 65,Expecting class 1 malign result\n",
    "model.save_weights('first_try.h5'),\n",
    "\n",
    "img_pred = image.load_img('C:/Users/Anju Satheesh/Dropbox/My PC (LAPTOP-N0RD666U)/Desktop/mini_project/masterwork/validation/New folder/try65_class1.png', target_size = (150, 150))  \n",
    "image_pred = image. img_to_array(img_pred)\n",
    "img_pred = np.expand_dims( img_pred, axis =0 )\n",
    "\n",
    "#Testing\n",
    "result=model.predict(img_pred)\n",
    "print (result)\n",
    "if result[0][0]==0:\n",
    "    prediction = \"Benign\"\n",
    "\n",
    "else:\n",
    "    prediction = \"Mallign\"\n",
    "\n",
    "print (prediction)"
   ]
  },
  {
   "cell_type": "code",
   "execution_count": 81,
   "id": "440dd33b",
   "metadata": {},
   "outputs": [
    {
     "name": "stdout",
     "output_type": "stream",
     "text": [
      "[[1.]]\n",
      "Mallign\n"
     ]
    }
   ],
   "source": [
    "#Try 66,Expecting class 1 malign result\n",
    "model.save_weights('first_try.h5'),\n",
    "\n",
    "img_pred = image.load_img('C:/Users/Anju Satheesh/Dropbox/My PC (LAPTOP-N0RD666U)/Desktop/mini_project/masterwork/validation/New folder/try66_class1.png', target_size = (150, 150))  \n",
    "image_pred = image. img_to_array(img_pred)\n",
    "img_pred = np.expand_dims( img_pred, axis =0 )\n",
    "\n",
    "#Testing\n",
    "result=model.predict(img_pred)\n",
    "print (result)\n",
    "if result[0][0]==0:\n",
    "    prediction = \"Benign\"\n",
    "\n",
    "else:\n",
    "    prediction = \"Mallign\"\n",
    "\n",
    "print (prediction)"
   ]
  },
  {
   "cell_type": "code",
   "execution_count": 82,
   "id": "d74af89b",
   "metadata": {},
   "outputs": [
    {
     "name": "stdout",
     "output_type": "stream",
     "text": [
      "[[1.]]\n",
      "Mallign\n"
     ]
    }
   ],
   "source": [
    "#Try 67,Expecting class 1 malign result\n",
    "model.save_weights('first_try.h5'),\n",
    "\n",
    "img_pred = image.load_img('C:/Users/Anju Satheesh/Dropbox/My PC (LAPTOP-N0RD666U)/Desktop/mini_project/masterwork/validation/New folder/try67_class1.png', target_size = (150, 150))  \n",
    "image_pred = image. img_to_array(img_pred)\n",
    "img_pred = np.expand_dims( img_pred, axis =0 )\n",
    "\n",
    "#Testing\n",
    "result=model.predict(img_pred)\n",
    "print (result)\n",
    "if result[0][0]==0:\n",
    "    prediction = \"Benign\"\n",
    "\n",
    "else:\n",
    "    prediction = \"Mallign\"\n",
    "\n",
    "print (prediction)"
   ]
  },
  {
   "cell_type": "code",
   "execution_count": 83,
   "id": "3663017e",
   "metadata": {},
   "outputs": [
    {
     "name": "stdout",
     "output_type": "stream",
     "text": [
      "[[1.]]\n",
      "Mallign\n"
     ]
    }
   ],
   "source": [
    "#Try 68,Expecting class 1 malign result\n",
    "model.save_weights('first_try.h5'),\n",
    "\n",
    "img_pred = image.load_img('C:/Users/Anju Satheesh/Dropbox/My PC (LAPTOP-N0RD666U)/Desktop/mini_project/masterwork/validation/New folder/try68_class1.png', target_size = (150, 150))  \n",
    "image_pred = image. img_to_array(img_pred)\n",
    "img_pred = np.expand_dims( img_pred, axis =0 )\n",
    "\n",
    "#Testing\n",
    "result=model.predict(img_pred)\n",
    "print (result)\n",
    "if result[0][0]==0:\n",
    "    prediction = \"Benign\"\n",
    "\n",
    "else:\n",
    "    prediction = \"Mallign\"\n",
    "\n",
    "print (prediction)"
   ]
  },
  {
   "cell_type": "code",
   "execution_count": 84,
   "id": "55137863",
   "metadata": {},
   "outputs": [
    {
     "name": "stdout",
     "output_type": "stream",
     "text": [
      "[[1.]]\n",
      "Mallign\n"
     ]
    }
   ],
   "source": [
    "#Try 69,Expecting class 1 malign result\n",
    "model.save_weights('first_try.h5'),\n",
    "\n",
    "img_pred = image.load_img('C:/Users/Anju Satheesh/Dropbox/My PC (LAPTOP-N0RD666U)/Desktop/mini_project/masterwork/validation/New folder/try69_class1.png', target_size = (150, 150))  \n",
    "image_pred = image. img_to_array(img_pred)\n",
    "img_pred = np.expand_dims( img_pred, axis =0 )\n",
    "\n",
    "#Testing\n",
    "result=model.predict(img_pred)\n",
    "print (result)\n",
    "if result[0][0]==0:\n",
    "    prediction = \"Benign\"\n",
    "\n",
    "else:\n",
    "    prediction = \"Mallign\"\n",
    "\n",
    "print (prediction)"
   ]
  },
  {
   "cell_type": "code",
   "execution_count": 85,
   "id": "19624ec8",
   "metadata": {},
   "outputs": [
    {
     "name": "stdout",
     "output_type": "stream",
     "text": [
      "[[1.]]\n",
      "Mallign\n"
     ]
    }
   ],
   "source": [
    "#Try 70,Expecting class 1 malign result\n",
    "model.save_weights('first_try.h5'),\n",
    "\n",
    "img_pred = image.load_img('C:/Users/Anju Satheesh/Dropbox/My PC (LAPTOP-N0RD666U)/Desktop/mini_project/masterwork/validation/New folder/try70_class1.png', target_size = (150, 150))  \n",
    "image_pred = image. img_to_array(img_pred)\n",
    "img_pred = np.expand_dims( img_pred, axis =0 )\n",
    "\n",
    "#Testing\n",
    "result=model.predict(img_pred)\n",
    "print (result)\n",
    "if result[0][0]==0:\n",
    "    prediction = \"Benign\"\n",
    "\n",
    "else:\n",
    "    prediction = \"Mallign\"\n",
    "\n",
    "print (prediction)"
   ]
  },
  {
   "cell_type": "code",
   "execution_count": 86,
   "id": "2908593e",
   "metadata": {},
   "outputs": [
    {
     "name": "stdout",
     "output_type": "stream",
     "text": [
      "[[1.]]\n",
      "Mallign\n"
     ]
    }
   ],
   "source": [
    "#Try 71,Expecting class 1 malign result\n",
    "model.save_weights('first_try.h5'),\n",
    "\n",
    "img_pred = image.load_img('C:/Users/Anju Satheesh/Dropbox/My PC (LAPTOP-N0RD666U)/Desktop/mini_project/masterwork/validation/New folder/try71_class1.png', target_size = (150, 150))  \n",
    "image_pred = image. img_to_array(img_pred)\n",
    "img_pred = np.expand_dims( img_pred, axis =0 )\n",
    "\n",
    "#Testing\n",
    "result=model.predict(img_pred)\n",
    "print (result)\n",
    "if result[0][0]==0:\n",
    "    prediction = \"Benign\"\n",
    "\n",
    "else:\n",
    "    prediction = \"Mallign\"\n",
    "\n",
    "print (prediction)"
   ]
  },
  {
   "cell_type": "code",
   "execution_count": 87,
   "id": "24102d9e",
   "metadata": {},
   "outputs": [
    {
     "name": "stdout",
     "output_type": "stream",
     "text": [
      "[[1.]]\n",
      "Mallign\n"
     ]
    }
   ],
   "source": [
    "#Try 72,Expecting class 1 malign result\n",
    "model.save_weights('first_try.h5'),\n",
    "\n",
    "img_pred = image.load_img('C:/Users/Anju Satheesh/Dropbox/My PC (LAPTOP-N0RD666U)/Desktop/mini_project/masterwork/validation/New folder/try72_class1.png', target_size = (150, 150))  \n",
    "image_pred = image. img_to_array(img_pred)\n",
    "img_pred = np.expand_dims( img_pred, axis =0 )\n",
    "\n",
    "#Testing\n",
    "result=model.predict(img_pred)\n",
    "print (result)\n",
    "if result[0][0]==0:\n",
    "    prediction = \"Benign\"\n",
    "\n",
    "else:\n",
    "    prediction = \"Mallign\"\n",
    "\n",
    "print (prediction)"
   ]
  },
  {
   "cell_type": "code",
   "execution_count": 88,
   "id": "3d594b2f",
   "metadata": {},
   "outputs": [
    {
     "name": "stdout",
     "output_type": "stream",
     "text": [
      "[[0.]]\n",
      "Benign\n"
     ]
    }
   ],
   "source": [
    "#Try 73,Expecting class 1 malign result\n",
    "model.save_weights('first_try.h5'),\n",
    "\n",
    "img_pred = image.load_img('C:/Users/Anju Satheesh/Dropbox/My PC (LAPTOP-N0RD666U)/Desktop/mini_project/masterwork/validation/New folder/try73_class1.png', target_size = (150, 150))  \n",
    "image_pred = image. img_to_array(img_pred)\n",
    "img_pred = np.expand_dims( img_pred, axis =0 )\n",
    "\n",
    "#Testing\n",
    "result=model.predict(img_pred)\n",
    "print (result)\n",
    "if result[0][0]==0:\n",
    "    prediction = \"Benign\"\n",
    "\n",
    "else:\n",
    "    prediction = \"Mallign\"\n",
    "\n",
    "print (prediction)"
   ]
  },
  {
   "cell_type": "code",
   "execution_count": 89,
   "id": "c28c0dc6",
   "metadata": {},
   "outputs": [
    {
     "name": "stdout",
     "output_type": "stream",
     "text": [
      "[[1.]]\n",
      "Mallign\n"
     ]
    }
   ],
   "source": [
    "#Try 74,Expecting class 1 malign result\n",
    "model.save_weights('first_try.h5'),\n",
    "\n",
    "img_pred = image.load_img('C:/Users/Anju Satheesh/Dropbox/My PC (LAPTOP-N0RD666U)/Desktop/mini_project/masterwork/validation/New folder/try74_class1.png', target_size = (150, 150))  \n",
    "image_pred = image. img_to_array(img_pred)\n",
    "img_pred = np.expand_dims( img_pred, axis =0 )\n",
    "\n",
    "#Testing\n",
    "result=model.predict(img_pred)\n",
    "print (result)\n",
    "if result[0][0]==0:\n",
    "    prediction = \"Benign\"\n",
    "\n",
    "else:\n",
    "    prediction = \"Mallign\"\n",
    "\n",
    "print (prediction)"
   ]
  },
  {
   "cell_type": "code",
   "execution_count": 90,
   "id": "dd95c7ad",
   "metadata": {},
   "outputs": [
    {
     "name": "stdout",
     "output_type": "stream",
     "text": [
      "[[1.]]\n",
      "Mallign\n"
     ]
    }
   ],
   "source": [
    "#Try 75,Expecting class 1 malign result\n",
    "model.save_weights('first_try.h5'),\n",
    "\n",
    "img_pred = image.load_img('C:/Users/Anju Satheesh/Dropbox/My PC (LAPTOP-N0RD666U)/Desktop/mini_project/masterwork/validation/New folder/try75_class1.png', target_size = (150, 150))  \n",
    "image_pred = image. img_to_array(img_pred)\n",
    "img_pred = np.expand_dims( img_pred, axis =0 )\n",
    "\n",
    "#Testing\n",
    "result=model.predict(img_pred)\n",
    "print (result)\n",
    "if result[0][0]==0:\n",
    "    prediction = \"Benign\"\n",
    "\n",
    "else:\n",
    "    prediction = \"Mallign\"\n",
    "\n",
    "print (prediction)"
   ]
  },
  {
   "cell_type": "code",
   "execution_count": 91,
   "id": "69a63b94",
   "metadata": {},
   "outputs": [
    {
     "name": "stdout",
     "output_type": "stream",
     "text": [
      "[[1.]]\n",
      "Mallign\n"
     ]
    }
   ],
   "source": [
    "#Try 76,Expecting class 1 malign result\n",
    "model.save_weights('first_try.h5'),\n",
    "\n",
    "img_pred = image.load_img('C:/Users/Anju Satheesh/Dropbox/My PC (LAPTOP-N0RD666U)/Desktop/mini_project/masterwork/validation/New folder/try76_class1.png', target_size = (150, 150))  \n",
    "image_pred = image. img_to_array(img_pred)\n",
    "img_pred = np.expand_dims( img_pred, axis =0 )\n",
    "\n",
    "#Testing\n",
    "result=model.predict(img_pred)\n",
    "print (result)\n",
    "if result[0][0]==0:\n",
    "    prediction = \"Benign\"\n",
    "\n",
    "else:\n",
    "    prediction = \"Mallign\"\n",
    "\n",
    "print (prediction)\n"
   ]
  },
  {
   "cell_type": "code",
   "execution_count": 92,
   "id": "3030767e",
   "metadata": {},
   "outputs": [
    {
     "name": "stdout",
     "output_type": "stream",
     "text": [
      "[[1.]]\n",
      "Mallign\n"
     ]
    }
   ],
   "source": [
    "#Try 77,Expecting class 1 malign result\n",
    "model.save_weights('first_try.h5'),\n",
    "\n",
    "img_pred = image.load_img('C:/Users/Anju Satheesh/Dropbox/My PC (LAPTOP-N0RD666U)/Desktop/mini_project/masterwork/validation/New folder/try77_class1.png', target_size = (150, 150))  \n",
    "image_pred = image. img_to_array(img_pred)\n",
    "img_pred = np.expand_dims( img_pred, axis =0 )\n",
    "\n",
    "#Testing\n",
    "result=model.predict(img_pred)\n",
    "print (result)\n",
    "if result[0][0]==0:\n",
    "    prediction = \"Benign\"\n",
    "\n",
    "else:\n",
    "    prediction = \"Mallign\"\n",
    "\n",
    "print (prediction)"
   ]
  },
  {
   "cell_type": "code",
   "execution_count": 93,
   "id": "3de7f523",
   "metadata": {},
   "outputs": [
    {
     "name": "stdout",
     "output_type": "stream",
     "text": [
      "[[1.]]\n",
      "Mallign\n"
     ]
    }
   ],
   "source": [
    "#Try 78,Expecting class 1 malign result\n",
    "model.save_weights('first_try.h5'),\n",
    "\n",
    "img_pred = image.load_img('C:/Users/Anju Satheesh/Dropbox/My PC (LAPTOP-N0RD666U)/Desktop/mini_project/masterwork/validation/New folder/try78_class1.png', target_size = (150, 150))  \n",
    "image_pred = image. img_to_array(img_pred)\n",
    "img_pred = np.expand_dims( img_pred, axis =0 )\n",
    "\n",
    "#Testing\n",
    "result=model.predict(img_pred)\n",
    "print (result)\n",
    "if result[0][0]==0:\n",
    "    prediction = \"Benign\"\n",
    "\n",
    "else:\n",
    "    prediction = \"Mallign\"\n",
    "\n",
    "print (prediction)"
   ]
  },
  {
   "cell_type": "code",
   "execution_count": 94,
   "id": "c0a37738",
   "metadata": {},
   "outputs": [
    {
     "name": "stdout",
     "output_type": "stream",
     "text": [
      "[[1.]]\n",
      "Mallign\n"
     ]
    }
   ],
   "source": [
    "#Try 79,Expecting class 1 malign result\n",
    "model.save_weights('first_try.h5'),\n",
    "\n",
    "img_pred = image.load_img('C:/Users/Anju Satheesh/Dropbox/My PC (LAPTOP-N0RD666U)/Desktop/mini_project/masterwork/validation/New folder/try79_class1.png', target_size = (150, 150))  \n",
    "image_pred = image. img_to_array(img_pred)\n",
    "img_pred = np.expand_dims( img_pred, axis =0 )\n",
    "\n",
    "#Testing\n",
    "result=model.predict(img_pred)\n",
    "print (result)\n",
    "if result[0][0]==0:\n",
    "    prediction = \"Benign\"\n",
    "\n",
    "else:\n",
    "    prediction = \"Mallign\"\n",
    "\n",
    "print (prediction)"
   ]
  },
  {
   "cell_type": "code",
   "execution_count": 95,
   "id": "0f7c16f8",
   "metadata": {},
   "outputs": [
    {
     "name": "stdout",
     "output_type": "stream",
     "text": [
      "[[1.]]\n",
      "Mallign\n"
     ]
    }
   ],
   "source": [
    "#Try 80,Expecting class 1 malign result\n",
    "model.save_weights('first_try.h5'),\n",
    "\n",
    "img_pred = image.load_img('C:/Users/Anju Satheesh/Dropbox/My PC (LAPTOP-N0RD666U)/Desktop/mini_project/masterwork/validation/New folder/try80_class1.png', target_size = (150, 150))  \n",
    "image_pred = image. img_to_array(img_pred)\n",
    "img_pred = np.expand_dims( img_pred, axis =0 )\n",
    "\n",
    "#Testing\n",
    "result=model.predict(img_pred)\n",
    "print (result)\n",
    "if result[0][0]==0:\n",
    "    prediction = \"Benign\"\n",
    "\n",
    "else:\n",
    "    prediction = \"Mallign\"\n",
    "\n",
    "print (prediction)"
   ]
  },
  {
   "cell_type": "code",
   "execution_count": 96,
   "id": "f1978392",
   "metadata": {},
   "outputs": [
    {
     "name": "stdout",
     "output_type": "stream",
     "text": [
      "[[1.]]\n",
      "Mallign\n"
     ]
    }
   ],
   "source": [
    "#Try 81,Expecting class 1 malign result\n",
    "model.save_weights('first_try.h5'),\n",
    "\n",
    "img_pred = image.load_img('C:/Users/Anju Satheesh/Dropbox/My PC (LAPTOP-N0RD666U)/Desktop/mini_project/masterwork/validation/New folder/try81_class1.png', target_size = (150, 150))  \n",
    "image_pred = image. img_to_array(img_pred)\n",
    "img_pred = np.expand_dims( img_pred, axis =0 )\n",
    "\n",
    "#Testing\n",
    "result=model.predict(img_pred)\n",
    "print (result)\n",
    "if result[0][0]==0:\n",
    "    prediction = \"Benign\"\n",
    "\n",
    "else:\n",
    "    prediction = \"Mallign\"\n",
    "\n",
    "print (prediction)"
   ]
  },
  {
   "cell_type": "code",
   "execution_count": 97,
   "id": "489eda1e",
   "metadata": {},
   "outputs": [
    {
     "name": "stdout",
     "output_type": "stream",
     "text": [
      "[[1.]]\n",
      "Mallign\n"
     ]
    }
   ],
   "source": [
    "#Try 82,Expecting class 1 malign result\n",
    "model.save_weights('first_try.h5'),\n",
    "\n",
    "img_pred = image.load_img('C:/Users/Anju Satheesh/Dropbox/My PC (LAPTOP-N0RD666U)/Desktop/mini_project/masterwork/validation/New folder/try82_class1.png', target_size = (150, 150))  \n",
    "image_pred = image. img_to_array(img_pred)\n",
    "img_pred = np.expand_dims( img_pred, axis =0 )\n",
    "\n",
    "#Testing\n",
    "result=model.predict(img_pred)\n",
    "print (result)\n",
    "if result[0][0]==0:\n",
    "    prediction = \"Benign\"\n",
    "\n",
    "else:\n",
    "    prediction = \"Mallign\"\n",
    "\n",
    "print (prediction)"
   ]
  },
  {
   "cell_type": "code",
   "execution_count": 98,
   "id": "87a675f8",
   "metadata": {},
   "outputs": [
    {
     "name": "stdout",
     "output_type": "stream",
     "text": [
      "[[1.]]\n",
      "Mallign\n"
     ]
    }
   ],
   "source": [
    "#Try 83,Expecting class 1 malign result\n",
    "model.save_weights('first_try.h5'),\n",
    "\n",
    "img_pred = image.load_img('C:/Users/Anju Satheesh/Dropbox/My PC (LAPTOP-N0RD666U)/Desktop/mini_project/masterwork/validation/New folder/try83_class1.png', target_size = (150, 150))  \n",
    "image_pred = image. img_to_array(img_pred)\n",
    "img_pred = np.expand_dims( img_pred, axis =0 )\n",
    "\n",
    "#Testing\n",
    "result=model.predict(img_pred)\n",
    "print (result)\n",
    "if result[0][0]==0:\n",
    "    prediction = \"Benign\"\n",
    "\n",
    "else:\n",
    "    prediction = \"Mallign\"\n",
    "\n",
    "print (prediction)"
   ]
  },
  {
   "cell_type": "code",
   "execution_count": 99,
   "id": "bc14a7ae",
   "metadata": {},
   "outputs": [
    {
     "name": "stdout",
     "output_type": "stream",
     "text": [
      "[[1.]]\n",
      "Mallign\n"
     ]
    }
   ],
   "source": [
    "#Try 84,Expecting class 1 malign result\n",
    "model.save_weights('first_try.h5'),\n",
    "\n",
    "img_pred = image.load_img('C:/Users/Anju Satheesh/Dropbox/My PC (LAPTOP-N0RD666U)/Desktop/mini_project/masterwork/validation/New folder/try84_class1.png', target_size = (150, 150))  \n",
    "image_pred = image. img_to_array(img_pred)\n",
    "img_pred = np.expand_dims( img_pred, axis =0 )\n",
    "\n",
    "#Testing\n",
    "result=model.predict(img_pred)\n",
    "print (result)\n",
    "if result[0][0]==0:\n",
    "    prediction = \"Benign\"\n",
    "\n",
    "else:\n",
    "    prediction = \"Mallign\"\n",
    "\n",
    "print (prediction)\n"
   ]
  },
  {
   "cell_type": "code",
   "execution_count": 100,
   "id": "1dfa9c9e",
   "metadata": {},
   "outputs": [
    {
     "name": "stdout",
     "output_type": "stream",
     "text": [
      "[[1.]]\n",
      "Mallign\n"
     ]
    }
   ],
   "source": [
    "#Try 85,Expecting class 1 malign result\n",
    "model.save_weights('first_try.h5'),\n",
    "\n",
    "img_pred = image.load_img('C:/Users/Anju Satheesh/Dropbox/My PC (LAPTOP-N0RD666U)/Desktop/mini_project/masterwork/validation/New folder/try85_class1.png', target_size = (150, 150))  \n",
    "image_pred = image. img_to_array(img_pred)\n",
    "img_pred = np.expand_dims( img_pred, axis =0 )\n",
    "\n",
    "#Testing\n",
    "result=model.predict(img_pred)\n",
    "print (result)\n",
    "if result[0][0]==0:\n",
    "    prediction = \"Benign\"\n",
    "\n",
    "else:\n",
    "    prediction = \"Mallign\"\n",
    "\n",
    "print (prediction)\n"
   ]
  },
  {
   "cell_type": "code",
   "execution_count": 101,
   "id": "60a8c1f3",
   "metadata": {},
   "outputs": [
    {
     "name": "stdout",
     "output_type": "stream",
     "text": [
      "[[1.]]\n",
      "Mallign\n"
     ]
    }
   ],
   "source": [
    "#Try 86,Expecting class 1 malign result\n",
    "model.save_weights('first_try.h5'),\n",
    "\n",
    "img_pred = image.load_img('C:/Users/Anju Satheesh/Dropbox/My PC (LAPTOP-N0RD666U)/Desktop/mini_project/masterwork/validation/New folder/try80_class1.png', target_size = (150, 150))  \n",
    "image_pred = image. img_to_array(img_pred)\n",
    "img_pred = np.expand_dims( img_pred, axis =0 )\n",
    "\n",
    "#Testing\n",
    "result=model.predict(img_pred)\n",
    "print (result)\n",
    "if result[0][0]==0:\n",
    "    prediction = \"Benign\"\n",
    "\n",
    "else:\n",
    "    prediction = \"Mallign\"\n",
    "\n",
    "print (prediction)\n"
   ]
  },
  {
   "cell_type": "code",
   "execution_count": 102,
   "id": "71e3d0a7",
   "metadata": {},
   "outputs": [
    {
     "name": "stdout",
     "output_type": "stream",
     "text": [
      "[[1.]]\n",
      "Mallign\n"
     ]
    }
   ],
   "source": [
    "#Try 87,Expecting class 1 malign result\n",
    "model.save_weights('first_try.h5'),\n",
    "\n",
    "img_pred = image.load_img('C:/Users/Anju Satheesh/Dropbox/My PC (LAPTOP-N0RD666U)/Desktop/mini_project/masterwork/validation/New folder/try87_class1.png', target_size = (150, 150))  \n",
    "image_pred = image. img_to_array(img_pred)\n",
    "img_pred = np.expand_dims( img_pred, axis =0 )\n",
    "\n",
    "#Testing\n",
    "result=model.predict(img_pred)\n",
    "print (result)\n",
    "if result[0][0]==0:\n",
    "    prediction = \"Benign\"\n",
    "\n",
    "else:\n",
    "    prediction = \"Mallign\"\n",
    "\n",
    "print (prediction)\n"
   ]
  },
  {
   "cell_type": "code",
   "execution_count": 103,
   "id": "42db40e7",
   "metadata": {},
   "outputs": [
    {
     "name": "stdout",
     "output_type": "stream",
     "text": [
      "[[1.]]\n",
      "Mallign\n"
     ]
    }
   ],
   "source": [
    "#Try 88,Expecting class 1 malign result\n",
    "model.save_weights('first_try.h5'),\n",
    "\n",
    "img_pred = image.load_img('C:/Users/Anju Satheesh/Dropbox/My PC (LAPTOP-N0RD666U)/Desktop/mini_project/masterwork/validation/New folder/try88_class1.png', target_size = (150, 150))  \n",
    "image_pred = image. img_to_array(img_pred)\n",
    "img_pred = np.expand_dims( img_pred, axis =0 )\n",
    "\n",
    "#Testing\n",
    "result=model.predict(img_pred)\n",
    "print (result)\n",
    "if result[0][0]==0:\n",
    "    prediction = \"Benign\"\n",
    "\n",
    "else:\n",
    "    prediction = \"Mallign\"\n",
    "\n",
    "print (prediction)\n"
   ]
  },
  {
   "cell_type": "code",
   "execution_count": 104,
   "id": "a9b07146",
   "metadata": {},
   "outputs": [
    {
     "name": "stdout",
     "output_type": "stream",
     "text": [
      "[[1.]]\n",
      "Mallign\n"
     ]
    }
   ],
   "source": [
    "#Try 89,Expecting class 1 malign result\n",
    "model.save_weights('first_try.h5'),\n",
    "\n",
    "img_pred = image.load_img('C:/Users/Anju Satheesh/Dropbox/My PC (LAPTOP-N0RD666U)/Desktop/mini_project/masterwork/validation/New folder/try89_class1.png', target_size = (150, 150))  \n",
    "image_pred = image. img_to_array(img_pred)\n",
    "img_pred = np.expand_dims( img_pred, axis =0 )\n",
    "\n",
    "#Testing\n",
    "result=model.predict(img_pred)\n",
    "print (result)\n",
    "if result[0][0]==0:\n",
    "    prediction = \"Benign\"\n",
    "\n",
    "else:\n",
    "    prediction = \"Mallign\"\n",
    "\n",
    "print (prediction)\n"
   ]
  },
  {
   "cell_type": "code",
   "execution_count": 105,
   "id": "490e9c5e",
   "metadata": {},
   "outputs": [
    {
     "name": "stdout",
     "output_type": "stream",
     "text": [
      "[[1.]]\n",
      "Mallign\n"
     ]
    }
   ],
   "source": [
    "#Try 90,Expecting class 1 malign result\n",
    "model.save_weights('first_try.h5'),\n",
    "\n",
    "img_pred = image.load_img('C:/Users/Anju Satheesh/Dropbox/My PC (LAPTOP-N0RD666U)/Desktop/mini_project/masterwork/validation/New folder/try90_class1.png', target_size = (150, 150))  \n",
    "image_pred = image. img_to_array(img_pred)\n",
    "img_pred = np.expand_dims( img_pred, axis =0 )\n",
    "\n",
    "#Testing\n",
    "result=model.predict(img_pred)\n",
    "print (result)\n",
    "if result[0][0]==0:\n",
    "    prediction = \"Benign\"\n",
    "\n",
    "else:\n",
    "    prediction = \"Mallign\"\n",
    "\n",
    "print (prediction)\n"
   ]
  },
  {
   "cell_type": "code",
   "execution_count": 106,
   "id": "6e7be5ed",
   "metadata": {},
   "outputs": [
    {
     "name": "stdout",
     "output_type": "stream",
     "text": [
      "[[1.]]\n",
      "Mallign\n"
     ]
    }
   ],
   "source": [
    "#Try 91,Expecting class 1 malign result\n",
    "model.save_weights('first_try.h5'),\n",
    "\n",
    "img_pred = image.load_img('C:/Users/Anju Satheesh/Dropbox/My PC (LAPTOP-N0RD666U)/Desktop/mini_project/masterwork/validation/New folder/try91_class1.png', target_size = (150, 150))  \n",
    "image_pred = image. img_to_array(img_pred)\n",
    "img_pred = np.expand_dims( img_pred, axis =0 )\n",
    "\n",
    "#Testing\n",
    "result=model.predict(img_pred)\n",
    "print (result)\n",
    "if result[0][0]==0:\n",
    "    prediction = \"Benign\"\n",
    "\n",
    "else:\n",
    "    prediction = \"Mallign\"\n",
    "\n",
    "print (prediction)\n"
   ]
  },
  {
   "cell_type": "code",
   "execution_count": 107,
   "id": "4567ef05",
   "metadata": {},
   "outputs": [
    {
     "name": "stdout",
     "output_type": "stream",
     "text": [
      "[[1.]]\n",
      "Mallign\n"
     ]
    }
   ],
   "source": [
    "#Try 92,Expecting class 1 malign result\n",
    "model.save_weights('first_try.h5'),\n",
    "\n",
    "img_pred = image.load_img('C:/Users/Anju Satheesh/Dropbox/My PC (LAPTOP-N0RD666U)/Desktop/mini_project/masterwork/validation/New folder/try92_class1.png', target_size = (150, 150))  \n",
    "image_pred = image. img_to_array(img_pred)\n",
    "img_pred = np.expand_dims( img_pred, axis =0 )\n",
    "\n",
    "#Testing\n",
    "result=model.predict(img_pred)\n",
    "print (result)\n",
    "if result[0][0]==0:\n",
    "    prediction = \"Benign\"\n",
    "\n",
    "else:\n",
    "    prediction = \"Mallign\"\n",
    "\n",
    "print (prediction)\n"
   ]
  },
  {
   "cell_type": "code",
   "execution_count": 108,
   "id": "64a186b0",
   "metadata": {},
   "outputs": [
    {
     "name": "stdout",
     "output_type": "stream",
     "text": [
      "[[1.]]\n",
      "Mallign\n"
     ]
    }
   ],
   "source": [
    "#Try 93,Expecting class 1 malign result\n",
    "model.save_weights('first_try.h5'),\n",
    "\n",
    "img_pred = image.load_img('C:/Users/Anju Satheesh/Dropbox/My PC (LAPTOP-N0RD666U)/Desktop/mini_project/masterwork/validation/New folder/try93_class1.png', target_size = (150, 150))  \n",
    "image_pred = image. img_to_array(img_pred)\n",
    "img_pred = np.expand_dims( img_pred, axis =0 )\n",
    "\n",
    "#Testing\n",
    "result=model.predict(img_pred)\n",
    "print (result)\n",
    "if result[0][0]==0:\n",
    "    prediction = \"Benign\"\n",
    "\n",
    "else:\n",
    "    prediction = \"Mallign\"\n",
    "\n",
    "print (prediction)\n",
    "\n"
   ]
  },
  {
   "cell_type": "code",
   "execution_count": 109,
   "id": "983b0468",
   "metadata": {},
   "outputs": [
    {
     "name": "stdout",
     "output_type": "stream",
     "text": [
      "[[1.]]\n",
      "Mallign\n"
     ]
    }
   ],
   "source": [
    "#Try 94,Expecting class 1 malign result\n",
    "model.save_weights('first_try.h5'),\n",
    "\n",
    "img_pred = image.load_img('C:/Users/Anju Satheesh/Dropbox/My PC (LAPTOP-N0RD666U)/Desktop/mini_project/masterwork/validation/New folder/try94_class1.png', target_size = (150, 150))  \n",
    "image_pred = image. img_to_array(img_pred)\n",
    "img_pred = np.expand_dims( img_pred, axis =0 )\n",
    "\n",
    "#Testing\n",
    "result=model.predict(img_pred)\n",
    "print (result)\n",
    "if result[0][0]==0:\n",
    "    prediction = \"Benign\"\n",
    "\n",
    "else:\n",
    "    prediction = \"Mallign\"\n",
    "\n",
    "print (prediction)\n",
    "\n"
   ]
  },
  {
   "cell_type": "code",
   "execution_count": 110,
   "id": "020fa3b7",
   "metadata": {},
   "outputs": [
    {
     "name": "stdout",
     "output_type": "stream",
     "text": [
      "[[1.]]\n",
      "Mallign\n"
     ]
    }
   ],
   "source": [
    "#Try 95,Expecting class 1 malign result\n",
    "model.save_weights('first_try.h5'),\n",
    "\n",
    "img_pred = image.load_img('C:/Users/Anju Satheesh/Dropbox/My PC (LAPTOP-N0RD666U)/Desktop/mini_project/masterwork/validation/New folder/try95_class1.png', target_size = (150, 150))  \n",
    "image_pred = image. img_to_array(img_pred)\n",
    "img_pred = np.expand_dims( img_pred, axis =0 )\n",
    "\n",
    "#Testing\n",
    "result=model.predict(img_pred)\n",
    "print (result)\n",
    "if result[0][0]==0:\n",
    "    prediction = \"Benign\"\n",
    "\n",
    "else:\n",
    "    prediction = \"Mallign\"\n",
    "\n",
    "print (prediction)\n"
   ]
  },
  {
   "cell_type": "code",
   "execution_count": 111,
   "id": "502c1b1e",
   "metadata": {},
   "outputs": [
    {
     "name": "stdout",
     "output_type": "stream",
     "text": [
      "[[1.]]\n",
      "Mallign\n"
     ]
    }
   ],
   "source": [
    "#Try 96,Expecting class 1 malign result\n",
    "model.save_weights('first_try.h5'),\n",
    "\n",
    "img_pred = image.load_img('C:/Users/Anju Satheesh/Dropbox/My PC (LAPTOP-N0RD666U)/Desktop/mini_project/masterwork/validation/New folder/try96_class1.png', target_size = (150, 150))  \n",
    "image_pred = image. img_to_array(img_pred)\n",
    "img_pred = np.expand_dims( img_pred, axis =0 )\n",
    "\n",
    "#Testing\n",
    "result=model.predict(img_pred)\n",
    "print (result)\n",
    "if result[0][0]==0:\n",
    "    prediction = \"Benign\"\n",
    "\n",
    "else:\n",
    "    prediction = \"Mallign\"\n",
    "\n",
    "print (prediction)\n"
   ]
  },
  {
   "cell_type": "code",
   "execution_count": 112,
   "id": "6a015bf7",
   "metadata": {},
   "outputs": [
    {
     "name": "stdout",
     "output_type": "stream",
     "text": [
      "[[1.]]\n",
      "Mallign\n"
     ]
    }
   ],
   "source": [
    "#Try 97,Expecting class 1 malign result\n",
    "model.save_weights('first_try.h5'),\n",
    "\n",
    "img_pred = image.load_img('C:/Users/Anju Satheesh/Dropbox/My PC (LAPTOP-N0RD666U)/Desktop/mini_project/masterwork/validation/New folder/try97_class1.png', target_size = (150, 150))  \n",
    "image_pred = image. img_to_array(img_pred)\n",
    "img_pred = np.expand_dims( img_pred, axis =0 )\n",
    "\n",
    "#Testing\n",
    "result=model.predict(img_pred)\n",
    "print (result)\n",
    "if result[0][0]==0:\n",
    "    prediction = \"Benign\"\n",
    "\n",
    "else:\n",
    "    prediction = \"Mallign\"\n",
    "\n",
    "print (prediction)\n",
    "\n"
   ]
  },
  {
   "cell_type": "code",
   "execution_count": 113,
   "id": "0c914c63",
   "metadata": {},
   "outputs": [
    {
     "name": "stdout",
     "output_type": "stream",
     "text": [
      "[[1.]]\n",
      "Mallign\n"
     ]
    }
   ],
   "source": [
    "#Try 98,Expecting class 1 malign result\n",
    "model.save_weights('first_try.h5'),\n",
    "\n",
    "img_pred = image.load_img('C:/Users/Anju Satheesh/Dropbox/My PC (LAPTOP-N0RD666U)/Desktop/mini_project/masterwork/validation/New folder/try98_class1.png', target_size = (150, 150))  \n",
    "image_pred = image. img_to_array(img_pred)\n",
    "img_pred = np.expand_dims( img_pred, axis =0 )\n",
    "\n",
    "#Testing\n",
    "result=model.predict(img_pred)\n",
    "print (result)\n",
    "if result[0][0]==0:\n",
    "    prediction = \"Benign\"\n",
    "\n",
    "else:\n",
    "    prediction = \"Mallign\"\n",
    "\n",
    "print (prediction)\n"
   ]
  },
  {
   "cell_type": "code",
   "execution_count": 114,
   "id": "20bcfbc7",
   "metadata": {},
   "outputs": [
    {
     "name": "stdout",
     "output_type": "stream",
     "text": [
      "[[1.]]\n",
      "Mallign\n"
     ]
    }
   ],
   "source": [
    "#Try 99,Expecting class 1 malign result\n",
    "model.save_weights('first_try.h5'),\n",
    "\n",
    "img_pred = image.load_img('C:/Users/Anju Satheesh/Dropbox/My PC (LAPTOP-N0RD666U)/Desktop/mini_project/masterwork/validation/New folder/try99_class1.png', target_size = (150, 150))  \n",
    "image_pred = image. img_to_array(img_pred)\n",
    "img_pred = np.expand_dims( img_pred, axis =0 )\n",
    "\n",
    "#Testing\n",
    "result=model.predict(img_pred)\n",
    "print (result)\n",
    "if result[0][0]==0:\n",
    "    prediction = \"Benign\"\n",
    "\n",
    "else:\n",
    "    prediction = \"Mallign\"\n",
    "\n",
    "print (prediction)\n"
   ]
  },
  {
   "cell_type": "code",
   "execution_count": 115,
   "id": "50a80a14",
   "metadata": {},
   "outputs": [
    {
     "name": "stdout",
     "output_type": "stream",
     "text": [
      "[[1.]]\n",
      "Mallign\n"
     ]
    }
   ],
   "source": [
    "#Try 100,Expecting class 1 malign result\n",
    "model.save_weights('first_try.h5'),\n",
    "\n",
    "img_pred = image.load_img('C:/Users/Anju Satheesh/Dropbox/My PC (LAPTOP-N0RD666U)/Desktop/mini_project/masterwork/validation/New folder/try100_class1.png', target_size = (150, 150))  \n",
    "image_pred = image. img_to_array(img_pred)\n",
    "img_pred = np.expand_dims( img_pred, axis =0 )\n",
    "\n",
    "#Testing\n",
    "result=model.predict(img_pred)\n",
    "print (result)\n",
    "if result[0][0]==0:\n",
    "    prediction = \"Benign\"\n",
    "\n",
    "else:\n",
    "    prediction = \"Mallign\"\n",
    "\n",
    "print (prediction)\n"
   ]
  },
  {
   "cell_type": "code",
   "execution_count": 116,
   "id": "f5eab223",
   "metadata": {},
   "outputs": [
    {
     "name": "stdout",
     "output_type": "stream",
     "text": [
      "[[1.]]\n",
      "Mallign\n"
     ]
    }
   ],
   "source": [
    "#Try 101,Expecting class 1 malign result\n",
    "model.save_weights('first_try.h5'),\n",
    "\n",
    "img_pred = image.load_img('C:/Users/Anju Satheesh/Dropbox/My PC (LAPTOP-N0RD666U)/Desktop/mini_project/masterwork/validation/New folder/try101_class1.png', target_size = (150, 150))  \n",
    "image_pred = image. img_to_array(img_pred)\n",
    "img_pred = np.expand_dims( img_pred, axis =0 )\n",
    "\n",
    "#Testing\n",
    "result=model.predict(img_pred)\n",
    "print (result)\n",
    "if result[0][0]==0:\n",
    "    prediction = \"Benign\"\n",
    "\n",
    "else:\n",
    "    prediction = \"Mallign\"\n",
    "\n",
    "print (prediction)\n"
   ]
  },
  {
   "cell_type": "code",
   "execution_count": 117,
   "id": "f68d8a03",
   "metadata": {},
   "outputs": [
    {
     "name": "stdout",
     "output_type": "stream",
     "text": [
      "[[1.]]\n"
     ]
    }
   ],
   "source": [
    "#Try 102,Expecting class 1 malign result\n",
    "model.save_weights('first_try.h5'),\n",
    "\n",
    "img_pred = image.load_img('C:/Users/Anju Satheesh/Dropbox/My PC (LAPTOP-N0RD666U)/Desktop/mini_project/masterwork/validation/New folder/try102_class1.png', target_size = (150, 150))  \n",
    "image_pred = image. img_to_array(img_pred)\n",
    "img_pred = np.expand_dims( img_pred, axis =0 )\n",
    "\n",
    "#Testing\n",
    "result=model.predict(img_pred)\n",
    "print (result)\n",
    "if result[0][0]==0:\n",
    "    prediction = \"Benign\"\n",
    "\n",
    "else:\n",
    "    prediction = \"Mallign\"\n"
   ]
  },
  {
   "cell_type": "markdown",
   "id": "b9833661",
   "metadata": {},
   "source": [
    "# Confusion matrix and classification report"
   ]
  },
  {
   "cell_type": "code",
   "execution_count": 118,
   "id": "b4b8c9c1",
   "metadata": {},
   "outputs": [],
   "source": [
    "from sklearn.metrics import classification_report\n",
    "from sklearn.metrics import confusion_matrix"
   ]
  },
  {
   "cell_type": "code",
   "execution_count": 119,
   "id": "0c45fe3d",
   "metadata": {},
   "outputs": [
    {
     "name": "stdout",
     "output_type": "stream",
     "text": [
      "Confusion matrix : \n",
      " [[44  7]\n",
      " [ 2 49]]\n",
      "Outcome values : \n",
      " 44 7 2 49\n",
      "Classification report : \n",
      "               precision    recall  f1-score   support\n",
      "\n",
      "           1       0.96      0.86      0.91        51\n",
      "           0       0.88      0.96      0.92        51\n",
      "\n",
      "    accuracy                           0.91       102\n",
      "   macro avg       0.92      0.91      0.91       102\n",
      "weighted avg       0.92      0.91      0.91       102\n",
      "\n"
     ]
    }
   ],
   "source": [
    "# actual values\n",
    "actual = [0,0,0,0,0,0,0,0,0,0,0,0,0,0,0,0,0,0,0,0,0,0,0,0,0,0,0,0,0,0,0,0,0,0,0,0,0,0,0,0,0,0,0,0,0,0,0,0,0,0,0,1,1,1,1,1,1,1,1,1,1,1,1,1,1,1,1,1,1,1,1,1,1,1,1,1,1,1,1,1,1,1,1,1,1,1,1,1,1,1,1,1,1,1,1,1,1,1,1,1,1,1]\n",
    "# predicted values\n",
    "predicted = [0,1,0,0,0,0,0,0,0,0,0,0,0,0,0,0,0,0,0,0,0,0,0,0,0,1,0,0,0,0,0,0,0,0,0,0,0,0,0,0,0,0,0,0,0,0,0,0,0,0,0,1,0,1,1,0,1,1,0,1,1,1,1,1,1,1,1,1,1,1,0,1,1,1,1,1,1,1,1,1,0,0,0,1,1,1,1,1,1,1,1,1,1,1,1,1,1,1,1,1,1,1]\n",
    "\n",
    "# confusion matrix\n",
    "matrix = confusion_matrix(actual,predicted, labels=[1,0])\n",
    "print('Confusion matrix : \\n',matrix)\n",
    "\n",
    "tp, fn, fp, tn = confusion_matrix(actual,predicted,labels=[1,0]).reshape(-1)\n",
    "print('Outcome values : \\n', tp, fn, fp, tn)\n",
    "\n",
    "# classification report \n",
    "matrix = classification_report(actual,predicted,labels=[1,0])\n",
    "print('Classification report : \\n',matrix)"
   ]
  },
  {
   "cell_type": "code",
   "execution_count": 120,
   "id": "f7638a77",
   "metadata": {},
   "outputs": [],
   "source": [
    "from mlxtend.plotting import plot_confusion_matrix"
   ]
  },
  {
   "cell_type": "code",
   "execution_count": 121,
   "id": "84a4d914",
   "metadata": {},
   "outputs": [
    {
     "data": {
      "image/png": "[encoded data removed]",
      "text/plain": [
       "<Figure size 432x288 with 1 Axes>"
      ]
     },
     "metadata": {
      "needs_background": "light"
     },
     "output_type": "display_data"
    }
   ],
   "source": [
    "import matplotlib.pyplot as plt\n",
    "import numpy as np\n",
    "\n",
    "binary1 = np.array([[44, 7],\n",
    "                   [2, 49]])\n",
    "\n",
    "fig, ax = plot_confusion_matrix(conf_mat=binary1)\n",
    "plt.show()"
   ]
  },
  {
   "cell_type": "code",
   "execution_count": null,
   "id": "9fe2c02d",
   "metadata": {},
   "outputs": [],
   "source": []
  }
 ],
 "metadata": {
  "kernelspec": {
   "display_name": "Python 3 (ipykernel)",
   "language": "python",
   "name": "python3"
  },
  "language_info": {
   "codemirror_mode": {
    "name": "ipython",
    "version": 3
   },
   "file_extension": ".py",
   "mimetype": "text/x-python",
   "name": "python",
   "nbconvert_exporter": "python",
   "pygments_lexer": "ipython3",
   "version": "3.8.12"
  }
 },
 "nbformat": 4,
 "nbformat_minor": 5
}
