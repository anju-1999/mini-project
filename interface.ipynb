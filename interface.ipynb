{
 "cells": [
  {
   "cell_type": "code",
   "execution_count": 3,
   "metadata": {},
   "outputs": [
    {
     "name": "stdout",
     "output_type": "stream",
     "text": [
      "WARNING:tensorflow:7 out of the last 7 calls to <function Model.make_predict_function.<locals>.predict_function at 0x00000203E0DAC160> triggered tf.function retracing. Tracing is expensive and the excessive number of tracings could be due to (1) creating @tf.function repeatedly in a loop, (2) passing tensors with different shapes, (3) passing Python objects instead of tensors. For (1), please define your @tf.function outside of the loop. For (2), @tf.function has experimental_relax_shapes=True option that relaxes argument shapes that can avoid unnecessary retracing. For (3), please refer to https://www.tensorflow.org/tutorials/customization/performance#python_or_tensor_args and https://www.tensorflow.org/api_docs/python/tf/function for  more details.\n",
      "[[0.]]\n",
      "WARNING:tensorflow:8 out of the last 8 calls to <function Model.make_predict_function.<locals>.predict_function at 0x00000203E0DCC9D0> triggered tf.function retracing. Tracing is expensive and the excessive number of tracings could be due to (1) creating @tf.function repeatedly in a loop, (2) passing tensors with different shapes, (3) passing Python objects instead of tensors. For (1), please define your @tf.function outside of the loop. For (2), @tf.function has experimental_relax_shapes=True option that relaxes argument shapes that can avoid unnecessary retracing. For (3), please refer to https://www.tensorflow.org/tutorials/customization/performance#python_or_tensor_args and https://www.tensorflow.org/api_docs/python/tf/function for  more details.\n",
      "[[0.]]\n"
     ]
    }
   ],
   "source": [
    "import tkinter as tk\n",
    "from PIL import ImageTk, Image\n",
    "from tkinter import filedialog\n",
    "import keras\n",
    "from keras.preprocessing import image\n",
    "import numpy as np\n",
    "\n",
    "def load_img():\n",
    "    global img, image_data\n",
    "    for img_display in frame.winfo_children():\n",
    "        img_display.destroy()\n",
    "\n",
    "    image_data = filedialog.askopenfilename(initialdir=\"/\", title=\"Choose an image\",\n",
    "                                       filetypes=((\"all files\", \"*.*\"), (\"png files\", \"*.png\")))\n",
    "    basewidth = 150 # Processing image for dysplaying\n",
    "    img = Image.open(image_data)\n",
    "    wpercent = (basewidth / float(img.size[0]))\n",
    "    hsize = int((float(img.size[1]) * float(wpercent)))\n",
    "    img = img.resize((basewidth, hsize), Image.ANTIALIAS)\n",
    "    img = ImageTk.PhotoImage(img)\n",
    "    file_name = image_data.split('/')\n",
    "    panel = tk.Label(frame, text= str(file_name[len(file_name)-1])).pack()\n",
    "    panel_image = tk.Label(frame, image=img).pack()\n",
    "    \n",
    "\n",
    "def classify():\n",
    "    original = Image.open(image_data)\n",
    "    original = original.resize((150, 150), Image.ANTIALIAS)\n",
    "    model = keras.models.load_model('C:/Users/Anju Satheesh/Dropbox/My PC (LAPTOP-N0RD666U)/Desktop/mini_project/cnn.model')\n",
    "    image_test = image.img_to_array(original)\n",
    "    #image_test = image_test.reshape((1,) + image_test.shape)\n",
    "    #image_test =image_test.astype('float32') / 255\n",
    "    \n",
    "    image_test = image. img_to_array(image_test)\n",
    "    image_test = np.expand_dims( image_test, axis =0 )\n",
    "    \n",
    "    result = model.predict(image_test)\n",
    "    \n",
    "    print(result)\n",
    "\n",
    "    if (result == 0):\n",
    "        pred = \"benign\"\n",
    "    else:\n",
    "        pred = \"malign\"\n",
    "\n",
    "    label = pred\n",
    "    table = tk.Label(frame, text=\"Result:\").pack()\n",
    "    result = tk.Label(frame,text= str(label).upper()).pack()\n",
    "         \n",
    "root = tk.Tk()\n",
    "root.title('Cancer')\n",
    "#root.iconbitmap('class.ico')\n",
    "root.resizable(False, False)\n",
    "\n",
    "tit = tk.Label(root, text=\"BREAST CANCER DIAGNOSIS\", padx=25, pady=6, font=(\"\", 12)).pack()\n",
    "\n",
    "canvas = tk.Canvas(root, height=500, width=600)\n",
    "canvas.pack()\n",
    "\n",
    "frame = tk.Frame(root, bg='white')\n",
    "frame.place(relwidth=0.6, relheight=0.5, relx=0.2, rely=0.25)\n",
    "\n",
    "chose_image = tk.Button(root, text='Choose Image',\n",
    "                        padx=35, pady=10,\n",
    "                        fg=\"white\", bg=\"grey\", command=load_img)\n",
    "chose_image.pack(side=tk.LEFT)\n",
    "\n",
    "class_image = tk.Button(root, text='Classify Image',\n",
    "                        padx=35, pady=10,\n",
    "                        fg=\"white\", bg=\"grey\", command=classify)\n",
    "class_image.pack(side=tk.RIGHT)\n",
    "\n",
    "\n",
    "root.mainloop()"
   ]
  },
  {
   "cell_type": "code",
   "execution_count": null,
   "metadata": {},
   "outputs": [],
   "source": []
  }
 ],
 "metadata": {
  "interpreter": {
   "hash": "69a878d54029d5b549364f969c6719a7b119c236b38e5a11ce811c8fd99e0eb5"
  },
  "kernelspec": {
   "display_name": "Python 3 (ipykernel)",
   "language": "python",
   "name": "python3"
  },
  "language_info": {
   "codemirror_mode": {
    "name": "ipython",
    "version": 3
   },
   "file_extension": ".py",
   "mimetype": "text/x-python",
   "name": "python",
   "nbconvert_exporter": "python",
   "pygments_lexer": "ipython3",
   "version": "3.8.12"
  }
 },
 "nbformat": 4,
 "nbformat_minor": 2
}
