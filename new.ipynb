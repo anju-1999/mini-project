{
 "cells": [
  {
   "cell_type": "code",
   "execution_count": 1,
   "id": "9fa49f41",
   "metadata": {},
   "outputs": [],
   "source": [
    "import keras\n",
    "from keras.models import Sequential\n",
    "from keras.layers import  BatchNormalization\n",
    "from keras.preprocessing import image\n",
    "import tensorflow as tf \n",
    "from keras.preprocessing.image import ImageDataGenerator\n",
    "from keras.callbacks import History \n",
    "from keras.layers.core import Dense, Dropout, Activation, Flatten\n",
    "from keras.layers.convolutional import Conv2D, MaxPooling2D, ZeroPadding2D  \n",
    "from keras import backend as K\n"
   ]
  },
  {
   "cell_type": "code",
   "execution_count": 11,
   "id": "d03d05dd",
   "metadata": {},
   "outputs": [],
   "source": [
    "img_width, img_height = 150, 150\n",
    "train_data_dir = 'C:/Users/Anju Satheesh/Dropbox/My PC (LAPTOP-N0RD666U)/Desktop/mini_project/masterwork/train'        \n",
    "validation_data_dir = 'C:/Users/Anju Satheesh/Dropbox/My PC (LAPTOP-N0RD666U)/Desktop/mini_project/masterwork/test'\n",
    "nb_train_samples = 8000        \n",
    "nb_validation_samples = 1600   \n",
    "epochs = 30\n",
    "batch_size = 32"
   ]
  },
  {
   "cell_type": "code",
   "execution_count": 12,
   "id": "ca0e2ff6",
   "metadata": {},
   "outputs": [],
   "source": [
    "if K.image_data_format() == 'channels_first':\n",
    "\n",
    "    input_shape = (3, img_width, img_height)\n",
    "else:\n",
    "    input_shape = (img_width, img_height, 3) \n",
    "\n",
    "\n",
    "train_datagen = ImageDataGenerator(\n",
    "rescale=1. / 255,   \n",
    "shear_range=0.2,\n",
    "zoom_range=0.2,\n",
    "horizontal_flip=True)"
   ]
  },
  {
   "cell_type": "code",
   "execution_count": 13,
   "id": "eae93f17",
   "metadata": {},
   "outputs": [
    {
     "name": "stdout",
     "output_type": "stream",
     "text": [
      "Found 8000 images belonging to 2 classes.\n",
      "Found 1600 images belonging to 2 classes.\n"
     ]
    }
   ],
   "source": [
    "test_datagen =ImageDataGenerator (rescale=1. / 255)\n",
    "\n",
    "train_generator = train_datagen.flow_from_directory(\n",
    "train_data_dir,\n",
    "target_size=(img_width, img_height),\n",
    "batch_size=batch_size,\n",
    "class_mode ='binary')\n",
    "\n",
    "validation_generator = test_datagen.flow_from_directory(\n",
    "    validation_data_dir,\n",
    "    target_size=(img_width, img_height),\n",
    "    batch_size=batch_size,\n",
    "    class_mode='binary'\n",
    ") "
   ]
  },
  {
   "cell_type": "code",
   "execution_count": 14,
   "id": "1613b627",
   "metadata": {},
   "outputs": [
    {
     "name": "stdout",
     "output_type": "stream",
     "text": [
      "Model: \"sequential_1\"\n",
      "_________________________________________________________________\n",
      "Layer (type)                 Output Shape              Param #   \n",
      "=================================================================\n",
      "conv2d_3 (Conv2D)            (None, 148, 148, 32)      896       \n",
      "_________________________________________________________________\n",
      "activation_5 (Activation)    (None, 148, 148, 32)      0         \n",
      "_________________________________________________________________\n",
      "batch_normalization_1 (Batch (None, 148, 148, 32)      128       \n",
      "_________________________________________________________________\n",
      "max_pooling2d_3 (MaxPooling2 (None, 74, 74, 32)        0         \n",
      "=================================================================\n",
      "Total params: 1,024\n",
      "Trainable params: 960\n",
      "Non-trainable params: 64\n",
      "_________________________________________________________________\n"
     ]
    }
   ],
   "source": [
    "model1 = Sequential()\n",
    "model1.add(Conv2D(32, (3, 3), input_shape = [150,150,3]))\n",
    "model1.add(Activation('relu'))\n",
    "model1.add(BatchNormalization())\n",
    "model1.add(MaxPooling2D(pool_size = (2, 2)))\n",
    "\n",
    "model1.summary ()\n",
    "\n",
    "model1.add(Conv2D(64, (3, 3)))\n",
    "model1.add(Activation('relu'))\n",
    "model1.add(MaxPooling2D(pool_size = (2, 2)))\n",
    "\n",
    "model1.add(Conv2D(128, (3, 3)))\n",
    "model1.add(Activation('relu'))\n",
    "model1.add(MaxPooling2D(pool_size = (2, 2)))\n",
    "\n"
   ]
  },
  {
   "cell_type": "code",
   "execution_count": 15,
   "id": "33a2ec09",
   "metadata": {},
   "outputs": [
    {
     "name": "stdout",
     "output_type": "stream",
     "text": [
      "Model: \"sequential_1\"\n",
      "_________________________________________________________________\n",
      "Layer (type)                 Output Shape              Param #   \n",
      "=================================================================\n",
      "conv2d_3 (Conv2D)            (None, 148, 148, 32)      896       \n",
      "_________________________________________________________________\n",
      "activation_5 (Activation)    (None, 148, 148, 32)      0         \n",
      "_________________________________________________________________\n",
      "batch_normalization_1 (Batch (None, 148, 148, 32)      128       \n",
      "_________________________________________________________________\n",
      "max_pooling2d_3 (MaxPooling2 (None, 74, 74, 32)        0         \n",
      "_________________________________________________________________\n",
      "conv2d_4 (Conv2D)            (None, 72, 72, 64)        18496     \n",
      "_________________________________________________________________\n",
      "activation_6 (Activation)    (None, 72, 72, 64)        0         \n",
      "_________________________________________________________________\n",
      "max_pooling2d_4 (MaxPooling2 (None, 36, 36, 64)        0         \n",
      "_________________________________________________________________\n",
      "conv2d_5 (Conv2D)            (None, 34, 34, 128)       73856     \n",
      "_________________________________________________________________\n",
      "activation_7 (Activation)    (None, 34, 34, 128)       0         \n",
      "_________________________________________________________________\n",
      "max_pooling2d_5 (MaxPooling2 (None, 17, 17, 128)       0         \n",
      "_________________________________________________________________\n",
      "flatten_1 (Flatten)          (None, 36992)             0         \n",
      "_________________________________________________________________\n",
      "dense_2 (Dense)              (None, 128)               4735104   \n",
      "_________________________________________________________________\n",
      "activation_8 (Activation)    (None, 128)               0         \n",
      "_________________________________________________________________\n",
      "dropout_1 (Dropout)          (None, 128)               0         \n",
      "_________________________________________________________________\n",
      "dense_3 (Dense)              (None, 1)                 129       \n",
      "_________________________________________________________________\n",
      "activation_9 (Activation)    (None, 1)                 0         \n",
      "=================================================================\n",
      "Total params: 4,828,609\n",
      "Trainable params: 4,828,545\n",
      "Non-trainable params: 64\n",
      "_________________________________________________________________\n"
     ]
    }
   ],
   "source": [
    "model1.add(Flatten())\n",
    "model1.add(Dense(128))\n",
    "model1.add(Activation('relu'))\n",
    "model1.add(Dropout(0.5))\n",
    "model1.add (Dense(1))\n",
    "model1.add(Activation('sigmoid'))\n",
    "\n",
    "model1.summary()"
   ]
  },
  {
   "cell_type": "code",
   "execution_count": 16,
   "id": "c7da925b",
   "metadata": {},
   "outputs": [],
   "source": [
    "model1.compile(loss ='binary_crossentropy',optimizer ='Adam',metrics = ['accuracy'])"
   ]
  },
  {
   "cell_type": "code",
   "execution_count": 17,
   "id": "761f6496",
   "metadata": {},
   "outputs": [
    {
     "name": "stdout",
     "output_type": "stream",
     "text": [
      "Epoch 1/30\n",
      "250/250 [==============================] - 276s 1s/step - loss: 0.4260 - accuracy: 0.8342 - val_loss: 0.6940 - val_accuracy: 0.5000\n",
      "Epoch 2/30\n",
      "250/250 [==============================] - 276s 1s/step - loss: 0.3416 - accuracy: 0.8641 - val_loss: 0.4725 - val_accuracy: 0.7812\n",
      "Epoch 3/30\n",
      "250/250 [==============================] - 275s 1s/step - loss: 0.3384 - accuracy: 0.8696 - val_loss: 1.1911 - val_accuracy: 0.5731\n",
      "Epoch 4/30\n",
      "250/250 [==============================] - 273s 1s/step - loss: 0.3199 - accuracy: 0.8720 - val_loss: 0.4661 - val_accuracy: 0.8050\n",
      "Epoch 5/30\n",
      "250/250 [==============================] - 277s 1s/step - loss: 0.3145 - accuracy: 0.8748 - val_loss: 0.4397 - val_accuracy: 0.8144\n",
      "Epoch 6/30\n",
      "250/250 [==============================] - 284s 1s/step - loss: 0.3073 - accuracy: 0.8786 - val_loss: 0.4614 - val_accuracy: 0.8119\n",
      "Epoch 7/30\n",
      "250/250 [==============================] - 280s 1s/step - loss: 0.2934 - accuracy: 0.8809 - val_loss: 0.3699 - val_accuracy: 0.8431\n",
      "Epoch 8/30\n",
      "250/250 [==============================] - 285s 1s/step - loss: 0.3076 - accuracy: 0.8776 - val_loss: 0.6944 - val_accuracy: 0.5013\n",
      "Epoch 9/30\n",
      "250/250 [==============================] - 290s 1s/step - loss: 0.2911 - accuracy: 0.8810 - val_loss: 0.3496 - val_accuracy: 0.8419\n",
      "Epoch 10/30\n",
      "250/250 [==============================] - 280s 1s/step - loss: 0.2842 - accuracy: 0.8851 - val_loss: 0.5660 - val_accuracy: 0.8244\n",
      "Epoch 11/30\n",
      "250/250 [==============================] - 279s 1s/step - loss: 0.2684 - accuracy: 0.8899 - val_loss: 0.3473 - val_accuracy: 0.8487\n",
      "Epoch 12/30\n",
      "250/250 [==============================] - 279s 1s/step - loss: 0.2667 - accuracy: 0.8932 - val_loss: 0.5843 - val_accuracy: 0.7081\n",
      "Epoch 13/30\n",
      "250/250 [==============================] - 280s 1s/step - loss: 0.2653 - accuracy: 0.8931 - val_loss: 0.3425 - val_accuracy: 0.8612\n",
      "Epoch 14/30\n",
      "250/250 [==============================] - 280s 1s/step - loss: 0.2559 - accuracy: 0.9000 - val_loss: 1.1645 - val_accuracy: 0.6600\n",
      "Epoch 15/30\n",
      "250/250 [==============================] - 280s 1s/step - loss: 0.2547 - accuracy: 0.8997 - val_loss: 0.3654 - val_accuracy: 0.8288\n",
      "Epoch 16/30\n",
      "250/250 [==============================] - 279s 1s/step - loss: 0.2503 - accuracy: 0.9004 - val_loss: 0.3709 - val_accuracy: 0.8269\n",
      "Epoch 17/30\n",
      "250/250 [==============================] - 279s 1s/step - loss: 0.2456 - accuracy: 0.9009 - val_loss: 0.4002 - val_accuracy: 0.7987\n",
      "Epoch 18/30\n",
      "250/250 [==============================] - 280s 1s/step - loss: 0.2437 - accuracy: 0.9030 - val_loss: 0.4171 - val_accuracy: 0.8506\n",
      "Epoch 19/30\n",
      "250/250 [==============================] - 280s 1s/step - loss: 0.2346 - accuracy: 0.9053 - val_loss: 0.4226 - val_accuracy: 0.8487\n",
      "Epoch 20/30\n",
      "250/250 [==============================] - 280s 1s/step - loss: 0.2400 - accuracy: 0.9064 - val_loss: 0.4614 - val_accuracy: 0.8244\n",
      "Epoch 21/30\n",
      "250/250 [==============================] - 279s 1s/step - loss: 0.2300 - accuracy: 0.9086 - val_loss: 0.4609 - val_accuracy: 0.8275\n",
      "Epoch 22/30\n",
      "250/250 [==============================] - 280s 1s/step - loss: 0.2350 - accuracy: 0.9057 - val_loss: 0.3480 - val_accuracy: 0.8581\n",
      "Epoch 23/30\n",
      "250/250 [==============================] - 276s 1s/step - loss: 0.2188 - accuracy: 0.9104 - val_loss: 0.3107 - val_accuracy: 0.8612\n",
      "Epoch 24/30\n",
      "250/250 [==============================] - 276s 1s/step - loss: 0.2245 - accuracy: 0.9116 - val_loss: 0.3725 - val_accuracy: 0.8400\n",
      "Epoch 25/30\n",
      "250/250 [==============================] - 275s 1s/step - loss: 0.2100 - accuracy: 0.9179 - val_loss: 0.4642 - val_accuracy: 0.7700\n",
      "Epoch 26/30\n",
      "250/250 [==============================] - 275s 1s/step - loss: 0.2175 - accuracy: 0.9176 - val_loss: 0.2931 - val_accuracy: 0.8612\n",
      "Epoch 27/30\n",
      "250/250 [==============================] - 274s 1s/step - loss: 0.2026 - accuracy: 0.9208 - val_loss: 0.5690 - val_accuracy: 0.7250\n",
      "Epoch 28/30\n",
      "250/250 [==============================] - 274s 1s/step - loss: 0.2003 - accuracy: 0.9220 - val_loss: 0.2865 - val_accuracy: 0.8712\n",
      "Epoch 29/30\n",
      "250/250 [==============================] - 274s 1s/step - loss: 0.2002 - accuracy: 0.9197 - val_loss: 0.3403 - val_accuracy: 0.8587\n",
      "Epoch 30/30\n",
      "250/250 [==============================] - 274s 1s/step - loss: 0.1967 - accuracy: 0.9245 - val_loss: 0.3654 - val_accuracy: 0.8650\n"
     ]
    }
   ],
   "source": [
    "history=model1.fit_generator(\n",
    "train_generator,\n",
    "steps_per_epoch=nb_train_samples // batch_size,\n",
    "epochs =epochs,\n",
    "validation_data= validation_generator,\n",
    "validation_steps =nb_validation_samples // batch_size)"
   ]
  },
  {
   "cell_type": "code",
   "execution_count": 18,
   "id": "1e2f6396",
   "metadata": {},
   "outputs": [
    {
     "name": "stdout",
     "output_type": "stream",
     "text": [
      "WARNING:tensorflow:From C:\\Users\\Anju Satheesh\\anaconda3\\envs\\breastcancer\\lib\\site-packages\\tensorflow\\python\\training\\tracking\\tracking.py:111: Model.state_updates (from tensorflow.python.keras.engine.training) is deprecated and will be removed in a future version.\n",
      "Instructions for updating:\n",
      "This property should not be used in TensorFlow 2.0, as updates are applied automatically.\n",
      "WARNING:tensorflow:From C:\\Users\\Anju Satheesh\\anaconda3\\envs\\breastcancer\\lib\\site-packages\\tensorflow\\python\\training\\tracking\\tracking.py:111: Layer.updates (from tensorflow.python.keras.engine.base_layer) is deprecated and will be removed in a future version.\n",
      "Instructions for updating:\n",
      "This property should not be used in TensorFlow 2.0, as updates are applied automatically.\n",
      "INFO:tensorflow:Assets written to: cnn1.model\\assets\n"
     ]
    }
   ],
   "source": [
    "model1.save('cnn1.model')"
   ]
  },
  {
   "cell_type": "code",
   "execution_count": 19,
   "id": "931a3dd2",
   "metadata": {},
   "outputs": [
    {
     "data": {
      "image/png": "[encoded data removed]",
      "text/plain": [
       "<Figure size 432x288 with 1 Axes>"
      ]
     },
     "metadata": {
      "needs_background": "light"
     },
     "output_type": "display_data"
    }
   ],
   "source": [
    "import matplotlib.pyplot as plt\n",
    "plt.plot(history.history['accuracy'])\n",
    "plt.plot(history.history['val_accuracy'])\n",
    "plt.title('model accuracy')\n",
    "plt.ylabel('accuracy')\n",
    "plt.xlabel('epoch')\n",
    "plt.legend(['train', 'Validation'], loc='upper left')\n",
    "plt.show()"
   ]
  },
  {
   "cell_type": "code",
   "execution_count": null,
   "id": "fe0c1d0a",
   "metadata": {},
   "outputs": [],
   "source": []
  }
 ],
 "metadata": {
  "kernelspec": {
   "display_name": "Python 3 (ipykernel)",
   "language": "python",
   "name": "python3"
  },
  "language_info": {
   "codemirror_mode": {
    "name": "ipython",
    "version": 3
   },
   "file_extension": ".py",
   "mimetype": "text/x-python",
   "name": "python",
   "nbconvert_exporter": "python",
   "pygments_lexer": "ipython3",
   "version": "3.8.12"
  }
 },
 "nbformat": 4,
 "nbformat_minor": 5
}
