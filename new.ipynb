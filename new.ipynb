{
 "cells": [
  {
   "cell_type": "code",
   "execution_count": 11,
   "id": "9fa49f41",
   "metadata": {},
   "outputs": [],
   "source": [
    "import keras\n",
    "from keras.models import Sequential\n",
    "from keras.layers import  BatchNormalization\n",
    "from keras.preprocessing import image\n",
    "import tensorflow as tf \n",
    "from keras.preprocessing.image import ImageDataGenerator\n",
    "from keras.callbacks import History \n",
    "from keras.layers.core import Dense, Dropout, Activation, Flatten\n",
    "from keras.layers.convolutional import Conv2D, MaxPooling2D, ZeroPadding2D  \n",
    "from keras import backend as K\n"
   ]
  },
  {
   "cell_type": "code",
   "execution_count": 12,
   "id": "d03d05dd",
   "metadata": {},
   "outputs": [],
   "source": [
    "img_width, img_height = 150, 150\n",
    "train_data_dir = 'C:/Users/Anju Satheesh/Dropbox/My PC (LAPTOP-N0RD666U)/Desktop/mini_project/masterwork/train'        \n",
    "validation_data_dir = 'C:/Users/Anju Satheesh/Dropbox/My PC (LAPTOP-N0RD666U)/Desktop/mini_project/masterwork/test'\n",
    "nb_train_samples = 8000        \n",
    "nb_validation_samples = 1600   \n",
    "epochs = 30\n",
    "batch_size = 32"
   ]
  },
  {
   "cell_type": "code",
   "execution_count": 13,
   "id": "ca0e2ff6",
   "metadata": {},
   "outputs": [],
   "source": [
    "if K.image_data_format() == 'channels_first':\n",
    "\n",
    "    input_shape = (3, img_width, img_height)\n",
    "else:\n",
    "    input_shape = (img_width, img_height, 3) \n",
    "\n",
    "\n",
    "train_datagen = ImageDataGenerator(\n",
    "rescale=1. / 255,   \n",
    "shear_range=0.2,\n",
    "zoom_range=0.2,\n",
    "horizontal_flip=True)"
   ]
  },
  {
   "cell_type": "code",
   "execution_count": 14,
   "id": "eae93f17",
   "metadata": {},
   "outputs": [
    {
     "name": "stdout",
     "output_type": "stream",
     "text": [
      "Found 8000 images belonging to 2 classes.\n",
      "Found 1600 images belonging to 2 classes.\n"
     ]
    }
   ],
   "source": [
    "test_datagen =ImageDataGenerator (rescale=1. / 255)\n",
    "\n",
    "train_generator = train_datagen.flow_from_directory(\n",
    "train_data_dir,\n",
    "target_size=(img_width, img_height),\n",
    "batch_size=batch_size,\n",
    "class_mode ='binary')\n",
    "\n",
    "validation_generator = test_datagen.flow_from_directory(\n",
    "    validation_data_dir,\n",
    "    target_size=(img_width, img_height),\n",
    "    batch_size=batch_size,\n",
    "    class_mode='binary'\n",
    ") "
   ]
  },
  {
   "cell_type": "code",
   "execution_count": 15,
   "id": "1613b627",
   "metadata": {},
   "outputs": [
    {
     "name": "stdout",
     "output_type": "stream",
     "text": [
      "Model: \"sequential_1\"\n",
      "_________________________________________________________________\n",
      "Layer (type)                 Output Shape              Param #   \n",
      "=================================================================\n",
      "conv2d_3 (Conv2D)            (None, 148, 148, 32)      896       \n",
      "_________________________________________________________________\n",
      "activation_7 (Activation)    (None, 148, 148, 32)      0         \n",
      "_________________________________________________________________\n",
      "batch_normalization_1 (Batch (None, 148, 148, 32)      128       \n",
      "_________________________________________________________________\n",
      "max_pooling2d_3 (MaxPooling2 (None, 74, 74, 32)        0         \n",
      "=================================================================\n",
      "Total params: 1,024\n",
      "Trainable params: 960\n",
      "Non-trainable params: 64\n",
      "_________________________________________________________________\n"
     ]
    }
   ],
   "source": [
    "model1 = Sequential()\n",
    "model1.add(Conv2D(32, (3, 3), input_shape = [150,150,3]))\n",
    "model1.add(Activation('relu'))\n",
    "model1.add(BatchNormalization())\n",
    "model1.add(MaxPooling2D(pool_size = (2, 2)))\n",
    "\n",
    "model1.summary ()\n",
    "\n",
    "model1.add(Conv2D(64, (3, 3)))\n",
    "model1.add(Activation('relu'))\n",
    "model1.add(MaxPooling2D(pool_size = (2, 2)))\n",
    "\n",
    "model1.add(Conv2D(128, (3, 3)))\n",
    "model1.add(Activation('relu'))\n",
    "model1.add(MaxPooling2D(pool_size = (2, 2)))\n",
    "\n"
   ]
  },
  {
   "cell_type": "code",
   "execution_count": 16,
   "id": "33a2ec09",
   "metadata": {},
   "outputs": [
    {
     "name": "stdout",
     "output_type": "stream",
     "text": [
      "Model: \"sequential_1\"\n",
      "_________________________________________________________________\n",
      "Layer (type)                 Output Shape              Param #   \n",
      "=================================================================\n",
      "conv2d_3 (Conv2D)            (None, 148, 148, 32)      896       \n",
      "_________________________________________________________________\n",
      "activation_7 (Activation)    (None, 148, 148, 32)      0         \n",
      "_________________________________________________________________\n",
      "batch_normalization_1 (Batch (None, 148, 148, 32)      128       \n",
      "_________________________________________________________________\n",
      "max_pooling2d_3 (MaxPooling2 (None, 74, 74, 32)        0         \n",
      "_________________________________________________________________\n",
      "conv2d_4 (Conv2D)            (None, 72, 72, 64)        18496     \n",
      "_________________________________________________________________\n",
      "activation_8 (Activation)    (None, 72, 72, 64)        0         \n",
      "_________________________________________________________________\n",
      "max_pooling2d_4 (MaxPooling2 (None, 36, 36, 64)        0         \n",
      "_________________________________________________________________\n",
      "conv2d_5 (Conv2D)            (None, 34, 34, 128)       73856     \n",
      "_________________________________________________________________\n",
      "activation_9 (Activation)    (None, 34, 34, 128)       0         \n",
      "_________________________________________________________________\n",
      "max_pooling2d_5 (MaxPooling2 (None, 17, 17, 128)       0         \n",
      "_________________________________________________________________\n",
      "flatten_2 (Flatten)          (None, 36992)             0         \n",
      "_________________________________________________________________\n",
      "dense_4 (Dense)              (None, 128)               4735104   \n",
      "_________________________________________________________________\n",
      "activation_10 (Activation)   (None, 128)               0         \n",
      "_________________________________________________________________\n",
      "dropout_2 (Dropout)          (None, 128)               0         \n",
      "_________________________________________________________________\n",
      "dense_5 (Dense)              (None, 1)                 129       \n",
      "_________________________________________________________________\n",
      "activation_11 (Activation)   (None, 1)                 0         \n",
      "=================================================================\n",
      "Total params: 4,828,609\n",
      "Trainable params: 4,828,545\n",
      "Non-trainable params: 64\n",
      "_________________________________________________________________\n"
     ]
    }
   ],
   "source": [
    "model1.add(Flatten())\n",
    "model1.add(Dense(128))\n",
    "model1.add(Activation('relu'))\n",
    "model1.add(Dropout(0.5))\n",
    "model1.add (Dense(1))\n",
    "model1.add(Activation('sigmoid'))\n",
    "\n",
    "model1.summary()"
   ]
  },
  {
   "cell_type": "code",
   "execution_count": 17,
   "id": "c7da925b",
   "metadata": {},
   "outputs": [],
   "source": [
    "model1.compile(loss ='binary_crossentropy',optimizer ='Adam',metrics = ['accuracy'])"
   ]
  },
  {
   "cell_type": "code",
   "execution_count": 18,
   "id": "761f6496",
   "metadata": {},
   "outputs": [
    {
     "name": "stdout",
     "output_type": "stream",
     "text": [
      "Epoch 1/30\n",
      "250/250 [==============================] - 304s 1s/step - loss: 0.4701 - accuracy: 0.8271 - val_loss: 0.6045 - val_accuracy: 0.6694\n",
      "Epoch 2/30\n",
      "250/250 [==============================] - 284s 1s/step - loss: 0.3557 - accuracy: 0.8584 - val_loss: 0.4745 - val_accuracy: 0.7937\n",
      "Epoch 3/30\n",
      "250/250 [==============================] - 279s 1s/step - loss: 0.3433 - accuracy: 0.8610 - val_loss: 0.9351 - val_accuracy: 0.7763\n",
      "Epoch 4/30\n",
      "250/250 [==============================] - 279s 1s/step - loss: 0.3325 - accuracy: 0.8659 - val_loss: 0.7473 - val_accuracy: 0.7456\n",
      "Epoch 5/30\n",
      "250/250 [==============================] - 277s 1s/step - loss: 0.3080 - accuracy: 0.8808 - val_loss: 0.5824 - val_accuracy: 0.7706\n",
      "Epoch 6/30\n",
      "250/250 [==============================] - 279s 1s/step - loss: 0.3097 - accuracy: 0.8731 - val_loss: 0.6828 - val_accuracy: 0.5744\n",
      "Epoch 7/30\n",
      "250/250 [==============================] - 276s 1s/step - loss: 0.3008 - accuracy: 0.8800 - val_loss: 0.5252 - val_accuracy: 0.7800\n",
      "Epoch 8/30\n",
      "250/250 [==============================] - 284s 1s/step - loss: 0.2932 - accuracy: 0.8839 - val_loss: 0.4974 - val_accuracy: 0.7756\n",
      "Epoch 9/30\n",
      "250/250 [==============================] - 279s 1s/step - loss: 0.2957 - accuracy: 0.8808 - val_loss: 0.5165 - val_accuracy: 0.7394\n",
      "Epoch 10/30\n",
      "250/250 [==============================] - 279s 1s/step - loss: 0.2783 - accuracy: 0.8920 - val_loss: 0.4416 - val_accuracy: 0.7944\n",
      "Epoch 11/30\n",
      "250/250 [==============================] - 279s 1s/step - loss: 0.2720 - accuracy: 0.8884 - val_loss: 0.4144 - val_accuracy: 0.8319\n",
      "Epoch 12/30\n",
      "250/250 [==============================] - 280s 1s/step - loss: 0.2677 - accuracy: 0.8910 - val_loss: 0.3709 - val_accuracy: 0.8381\n",
      "Epoch 13/30\n",
      "250/250 [==============================] - 281s 1s/step - loss: 0.2630 - accuracy: 0.8985 - val_loss: 0.4870 - val_accuracy: 0.7981\n",
      "Epoch 14/30\n",
      "250/250 [==============================] - 283s 1s/step - loss: 0.2590 - accuracy: 0.8954 - val_loss: 0.4072 - val_accuracy: 0.8106\n",
      "Epoch 15/30\n",
      "250/250 [==============================] - 283s 1s/step - loss: 0.2516 - accuracy: 0.8994 - val_loss: 0.3061 - val_accuracy: 0.8681\n",
      "Epoch 16/30\n",
      "250/250 [==============================] - 275s 1s/step - loss: 0.2558 - accuracy: 0.9001 - val_loss: 0.7805 - val_accuracy: 0.6994\n",
      "Epoch 17/30\n",
      "250/250 [==============================] - 278s 1s/step - loss: 0.2545 - accuracy: 0.8981 - val_loss: 0.3533 - val_accuracy: 0.8519\n",
      "Epoch 18/30\n",
      "250/250 [==============================] - 277s 1s/step - loss: 0.2368 - accuracy: 0.9054 - val_loss: 0.3528 - val_accuracy: 0.8138\n",
      "Epoch 19/30\n",
      "250/250 [==============================] - 332s 1s/step - loss: 0.2277 - accuracy: 0.9104 - val_loss: 0.4417 - val_accuracy: 0.7919\n",
      "Epoch 20/30\n",
      "250/250 [==============================] - 280s 1s/step - loss: 0.2314 - accuracy: 0.9079 - val_loss: 0.3349 - val_accuracy: 0.8375\n",
      "Epoch 21/30\n",
      "250/250 [==============================] - 280s 1s/step - loss: 0.2171 - accuracy: 0.9129 - val_loss: 0.3206 - val_accuracy: 0.8669\n",
      "Epoch 22/30\n",
      "250/250 [==============================] - 277s 1s/step - loss: 0.2168 - accuracy: 0.9151 - val_loss: 0.3646 - val_accuracy: 0.8550\n",
      "Epoch 23/30\n",
      "250/250 [==============================] - 279s 1s/step - loss: 0.2116 - accuracy: 0.9155 - val_loss: 0.2657 - val_accuracy: 0.8769\n",
      "Epoch 24/30\n",
      "250/250 [==============================] - 279s 1s/step - loss: 0.2208 - accuracy: 0.9131 - val_loss: 0.2737 - val_accuracy: 0.8712\n",
      "Epoch 25/30\n",
      "250/250 [==============================] - 279s 1s/step - loss: 0.2038 - accuracy: 0.9179 - val_loss: 0.3908 - val_accuracy: 0.8363\n",
      "Epoch 26/30\n",
      "250/250 [==============================] - 287s 1s/step - loss: 0.2073 - accuracy: 0.9189 - val_loss: 0.2619 - val_accuracy: 0.8781\n",
      "Epoch 27/30\n",
      "250/250 [==============================] - 291s 1s/step - loss: 0.1890 - accuracy: 0.9252 - val_loss: 0.3494 - val_accuracy: 0.8506\n",
      "Epoch 28/30\n",
      "250/250 [==============================] - 282s 1s/step - loss: 0.1883 - accuracy: 0.9260 - val_loss: 0.8134 - val_accuracy: 0.6750\n",
      "Epoch 29/30\n",
      "250/250 [==============================] - 293s 1s/step - loss: 0.1972 - accuracy: 0.9234 - val_loss: 0.4808 - val_accuracy: 0.7613\n",
      "Epoch 30/30\n",
      "250/250 [==============================] - 297s 1s/step - loss: 0.1828 - accuracy: 0.9251 - val_loss: 0.4033 - val_accuracy: 0.8450\n"
     ]
    }
   ],
   "source": [
    "history=model1.fit_generator(\n",
    "train_generator,\n",
    "steps_per_epoch=nb_train_samples // batch_size,\n",
    "epochs =epochs,\n",
    "validation_data= validation_generator,\n",
    "validation_steps =nb_validation_samples // batch_size)"
   ]
  },
  {
   "cell_type": "code",
   "execution_count": 20,
   "id": "1e2f6396",
   "metadata": {},
   "outputs": [
    {
     "name": "stdout",
     "output_type": "stream",
     "text": [
      "WARNING:tensorflow:From C:\\Users\\Anju Satheesh\\anaconda3\\envs\\breastcancer\\lib\\site-packages\\tensorflow\\python\\training\\tracking\\tracking.py:111: Model.state_updates (from tensorflow.python.keras.engine.training) is deprecated and will be removed in a future version.\n",
      "Instructions for updating:\n",
      "This property should not be used in TensorFlow 2.0, as updates are applied automatically.\n",
      "WARNING:tensorflow:From C:\\Users\\Anju Satheesh\\anaconda3\\envs\\breastcancer\\lib\\site-packages\\tensorflow\\python\\training\\tracking\\tracking.py:111: Layer.updates (from tensorflow.python.keras.engine.base_layer) is deprecated and will be removed in a future version.\n",
      "Instructions for updating:\n",
      "This property should not be used in TensorFlow 2.0, as updates are applied automatically.\n",
      "INFO:tensorflow:Assets written to: cnn1.model\\assets\n"
     ]
    }
   ],
   "source": [
    "model1.save('cnn1.model')"
   ]
  },
  {
   "cell_type": "code",
   "execution_count": 21,
   "id": "931a3dd2",
   "metadata": {},
   "outputs": [
    {
     "data": {
      "image/png": "[encoded data removed]",
      "text/plain": [
       "<Figure size 432x288 with 1 Axes>"
      ]
     },
     "metadata": {
      "needs_background": "light"
     },
     "output_type": "display_data"
    }
   ],
   "source": [
    "import matplotlib.pyplot as plt\n",
    "plt.plot(history.history['accuracy'])\n",
    "plt.plot(history.history['val_accuracy'])\n",
    "plt.title('model accuracy')\n",
    "plt.ylabel('accuracy')\n",
    "plt.xlabel('epoch')\n",
    "plt.legend(['train', 'Validation'], loc='upper left')\n",
    "plt.show()"
   ]
  },
  {
   "cell_type": "code",
   "execution_count": null,
   "id": "fe0c1d0a",
   "metadata": {},
   "outputs": [],
   "source": []
  }
 ],
 "metadata": {
  "kernelspec": {
   "display_name": "Python 3 (ipykernel)",
   "language": "python",
   "name": "python3"
  },
  "language_info": {
   "codemirror_mode": {
    "name": "ipython",
    "version": 3
   },
   "file_extension": ".py",
   "mimetype": "text/x-python",
   "name": "python",
   "nbconvert_exporter": "python",
   "pygments_lexer": "ipython3",
   "version": "3.8.12"
  }
 },
 "nbformat": 4,
 "nbformat_minor": 5
}
